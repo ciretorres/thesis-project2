{
 "cells": [
  {
   "cell_type": "code",
   "execution_count": 2,
   "metadata": {},
   "outputs": [],
   "source": [
    "# Python standard-library\n",
    "from urllib.parse import urlencode\n",
    "from urllib.request import urlretrieve\n",
    "\n",
    "# Third-party dependencies\n",
    "from astropy import units as u\n",
    "from astropy.coordinates import SkyCoord\n",
    "from IPython.display import Image"
   ]
  },
  {
   "cell_type": "code",
   "execution_count": 15,
   "metadata": {},
   "outputs": [],
   "source": [
    "# initialize a SkyCood object named hcg7_center at the location of HCG 7\n",
    "hcg7_center = SkyCoord.from_name('HCG 7')\n",
    "m42_center = SkyCoord.from_name('M42')\n",
    "ac_center = SkyCoord.from_name('Alpha Centauri C')"
   ]
  },
  {
   "cell_type": "code",
   "execution_count": 3,
   "metadata": {},
   "outputs": [],
   "source": [
    "# uncomment and run this line if you don't have an internet connection\n",
    "# hcg7_center = SkyCoord(9.81625*u.deg, 0.88806*u.deg, frame='icrs')"
   ]
  },
  {
   "cell_type": "code",
   "execution_count": 17,
   "metadata": {},
   "outputs": [
    {
     "data": {
      "text/plain": [
       "astropy.coordinates.sky_coordinate.SkyCoord"
      ]
     },
     "execution_count": 17,
     "metadata": {},
     "output_type": "execute_result"
    }
   ],
   "source": [
    "#type(hcg7_center)\n",
    "type(ac_center)"
   ]
  },
  {
   "cell_type": "code",
   "execution_count": 5,
   "metadata": {},
   "outputs": [
    {
     "data": {
      "text/plain": [
       "['T',\n",
       " '__abstractmethods__',\n",
       " '__bool__',\n",
       " '__class__',\n",
       " '__delattr__',\n",
       " '__dict__',\n",
       " '__dir__',\n",
       " '__doc__',\n",
       " '__eq__',\n",
       " '__format__',\n",
       " '__ge__',\n",
       " '__getattr__',\n",
       " '__getattribute__',\n",
       " '__getitem__',\n",
       " '__gt__',\n",
       " '__hash__',\n",
       " '__init__',\n",
       " '__init_subclass__',\n",
       " '__iter__',\n",
       " '__le__',\n",
       " '__len__',\n",
       " '__lt__',\n",
       " '__module__',\n",
       " '__ne__',\n",
       " '__new__',\n",
       " '__reduce__',\n",
       " '__reduce_ex__',\n",
       " '__repr__',\n",
       " '__setattr__',\n",
       " '__sizeof__',\n",
       " '__str__',\n",
       " '__subclasshook__',\n",
       " '__weakref__',\n",
       " '_abc_cache',\n",
       " '_abc_negative_cache',\n",
       " '_abc_negative_cache_version',\n",
       " '_abc_registry',\n",
       " '_apply',\n",
       " '_extra_frameattr_names',\n",
       " '_is_name',\n",
       " '_sky_coord_frame',\n",
       " 'altaz',\n",
       " 'apply_space_motion',\n",
       " 'barycentricmeanecliptic',\n",
       " 'barycentrictrueecliptic',\n",
       " 'cache',\n",
       " 'cartesian',\n",
       " 'cirs',\n",
       " 'contained_by',\n",
       " 'copy',\n",
       " 'custombarycentricecliptic',\n",
       " 'cylindrical',\n",
       " 'data',\n",
       " 'dec',\n",
       " 'default_differential',\n",
       " 'default_representation',\n",
       " 'diagonal',\n",
       " 'differential_type',\n",
       " 'directional_offset_by',\n",
       " 'distance',\n",
       " 'equinox',\n",
       " 'fk4',\n",
       " 'fk4noeterms',\n",
       " 'fk5',\n",
       " 'flatten',\n",
       " 'frame',\n",
       " 'frame_attributes',\n",
       " 'frame_specific_representation_info',\n",
       " 'from_name',\n",
       " 'from_pixel',\n",
       " 'galactic',\n",
       " 'galacticlsr',\n",
       " 'galactocentric',\n",
       " 'galcen_coord',\n",
       " 'galcen_distance',\n",
       " 'galcen_v_sun',\n",
       " 'gcrs',\n",
       " 'geocentricmeanecliptic',\n",
       " 'geocentrictrueecliptic',\n",
       " 'get_constellation',\n",
       " 'get_frame_attr_names',\n",
       " 'get_representation_cls',\n",
       " 'get_representation_component_names',\n",
       " 'get_representation_component_units',\n",
       " 'guess_from_table',\n",
       " 'has_data',\n",
       " 'hcrs',\n",
       " 'heliocentriceclipticiau76',\n",
       " 'heliocentricmeanecliptic',\n",
       " 'heliocentrictrueecliptic',\n",
       " 'icrs',\n",
       " 'info',\n",
       " 'is_equivalent_frame',\n",
       " 'is_frame_attr_default',\n",
       " 'is_transformable_to',\n",
       " 'isscalar',\n",
       " 'itrs',\n",
       " 'location',\n",
       " 'lsr',\n",
       " 'match_to_catalog_3d',\n",
       " 'match_to_catalog_sky',\n",
       " 'name',\n",
       " 'ndim',\n",
       " 'obliquity',\n",
       " 'obsgeoloc',\n",
       " 'obsgeovel',\n",
       " 'obstime',\n",
       " 'obswl',\n",
       " 'pm_dec',\n",
       " 'pm_ra_cosdec',\n",
       " 'position_angle',\n",
       " 'precessedgeocentric',\n",
       " 'pressure',\n",
       " 'proper_motion',\n",
       " 'ra',\n",
       " 'radial_velocity',\n",
       " 'radial_velocity_correction',\n",
       " 'ravel',\n",
       " 'realize_frame',\n",
       " 'relative_humidity',\n",
       " 'replicate',\n",
       " 'replicate_without_data',\n",
       " 'represent_as',\n",
       " 'representation',\n",
       " 'representation_component_names',\n",
       " 'representation_component_units',\n",
       " 'representation_info',\n",
       " 'representation_type',\n",
       " 'reshape',\n",
       " 'roll',\n",
       " 'search_around_3d',\n",
       " 'search_around_sky',\n",
       " 'separation',\n",
       " 'separation_3d',\n",
       " 'set_representation_cls',\n",
       " 'shape',\n",
       " 'size',\n",
       " 'skyoffset_frame',\n",
       " 'spherical',\n",
       " 'spherical_offsets_to',\n",
       " 'sphericalcoslat',\n",
       " 'squeeze',\n",
       " 'supergalactic',\n",
       " 'swapaxes',\n",
       " 'take',\n",
       " 'temperature',\n",
       " 'to_pixel',\n",
       " 'to_string',\n",
       " 'transform_to',\n",
       " 'transpose',\n",
       " 'v_bary',\n",
       " 'velocity',\n",
       " 'z_sun']"
      ]
     },
     "execution_count": 5,
     "metadata": {},
     "output_type": "execute_result"
    }
   ],
   "source": [
    "dir(hcg7_center)"
   ]
  },
  {
   "cell_type": "code",
   "execution_count": 6,
   "metadata": {},
   "outputs": [
    {
     "name": "stdout",
     "output_type": "stream",
     "text": [
      "9d48m58.5s 0d53m17.016s\n",
      "0.6544166666666668 0d53m17.016s\n"
     ]
    }
   ],
   "source": [
    "print(hcg7_center.ra, hcg7_center.dec)\n",
    "print(hcg7_center.ra.hour, hcg7_center.dec)"
   ]
  },
  {
   "cell_type": "code",
   "execution_count": 7,
   "metadata": {},
   "outputs": [
    {
     "data": {
      "text/plain": [
       "(astropy.coordinates.angles.Longitude, astropy.coordinates.angles.Latitude)"
      ]
     },
     "execution_count": 7,
     "metadata": {},
     "output_type": "execute_result"
    }
   ],
   "source": [
    "type(hcg7_center.ra), type(hcg7_center.dec)"
   ]
  },
  {
   "cell_type": "code",
   "execution_count": 8,
   "metadata": {},
   "outputs": [
    {
     "data": {
      "text/plain": [
       "(<Longitude 9.81625 deg>, <Latitude 0.88806 deg>)"
      ]
     },
     "execution_count": 8,
     "metadata": {},
     "output_type": "execute_result"
    }
   ],
   "source": [
    "hcg7_center.ra, hcg7_center.dec"
   ]
  },
  {
   "cell_type": "code",
   "execution_count": 9,
   "metadata": {},
   "outputs": [
    {
     "data": {
      "text/plain": [
       "<SkyCoord (ICRS): (ra, dec) in deg\n",
       "    (9.81625, 0.88806)>"
      ]
     },
     "execution_count": 9,
     "metadata": {},
     "output_type": "execute_result"
    }
   ],
   "source": [
    "hcg7_center"
   ]
  },
  {
   "cell_type": "code",
   "execution_count": 10,
   "metadata": {},
   "outputs": [
    {
     "data": {
      "text/plain": [
       "0.6544166666666668"
      ]
     },
     "execution_count": 10,
     "metadata": {},
     "output_type": "execute_result"
    }
   ],
   "source": [
    "hcg7_center.ra.hour"
   ]
  },
  {
   "cell_type": "code",
   "execution_count": 11,
   "metadata": {},
   "outputs": [
    {
     "data": {
      "text/plain": [
       "<SkyCoord (ICRS): (ra, dec) in deg\n",
       "    (9.81625, 0.88806)>"
      ]
     },
     "execution_count": 11,
     "metadata": {},
     "output_type": "execute_result"
    }
   ],
   "source": [
    "SkyCoord('0h39m15.9s', '0d53m17.016s', frame='icrs')"
   ]
  },
  {
   "cell_type": "code",
   "execution_count": 13,
   "metadata": {},
   "outputs": [
    {
     "data": {
      "text/plain": [
       "0.6544166666666668"
      ]
     },
     "execution_count": 13,
     "metadata": {},
     "output_type": "execute_result"
    }
   ],
   "source": [
    "hcg7_center.ra.hour"
   ]
  },
  {
   "cell_type": "code",
   "execution_count": 18,
   "metadata": {},
   "outputs": [
    {
     "data": {
      "text/plain": [
       "<SkyCoord (ICRS): (ra, dec) in deg\n",
       "    (217.42893801, -62.67949189)>"
      ]
     },
     "execution_count": 18,
     "metadata": {},
     "output_type": "execute_result"
    }
   ],
   "source": [
    "ac_center"
   ]
  },
  {
   "cell_type": "code",
   "execution_count": null,
   "metadata": {},
   "outputs": [],
   "source": []
  }
 ],
 "metadata": {
  "kernelspec": {
   "display_name": "Python 3",
   "language": "python",
   "name": "python3"
  },
  "language_info": {
   "codemirror_mode": {
    "name": "ipython",
    "version": 3
   },
   "file_extension": ".py",
   "mimetype": "text/x-python",
   "name": "python",
   "nbconvert_exporter": "python",
   "pygments_lexer": "ipython3",
   "version": "3.7.6"
  }
 },
 "nbformat": 4,
 "nbformat_minor": 2
}
