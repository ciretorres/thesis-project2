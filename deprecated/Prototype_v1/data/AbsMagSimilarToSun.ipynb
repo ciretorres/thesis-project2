{
 "cells": [
  {
   "cell_type": "code",
   "execution_count": 3,
   "metadata": {},
   "outputs": [],
   "source": [
    "from datascience import *"
   ]
  },
  {
   "cell_type": "markdown",
   "metadata": {},
   "source": [
    "# How many stars in the Hipparcos catalogue have an Absolute Magnitude similiar to the Sun?\n",
    "#### http://cdsarc.u-strasbg.fr/viz-bin/nph-Cat/html?I/239/hip_main.dat.gz"
   ]
  },
  {
   "cell_type": "code",
   "execution_count": 8,
   "metadata": {},
   "outputs": [
    {
     "data": {
      "text/html": [
       "<table border=\"1\" class=\"dataframe\">\n",
       "    <thead>\n",
       "        <tr>\n",
       "            <th>HIP</th> <th>RAdeg</th> <th>DEdeg</th> <th>Vmag</th> <th>Plx</th> <th>abs_mag</th> <th>dist (pc)</th> <th>x</th> <th>y</th> <th>z</th>\n",
       "        </tr>\n",
       "    </thead>\n",
       "    <tbody>\n",
       "        <tr>\n",
       "            <td>1   </td> <td>0.00091185</td> <td>1.08901 </td> <td>9.1  </td> <td>3.54 </td> <td>1.84502 </td> <td>282.486  </td> <td>282.435</td> <td>0.00449489</td> <td>5.36885 </td>\n",
       "        </tr>\n",
       "    </tbody>\n",
       "        <tr>\n",
       "            <td>2   </td> <td>0.00379737</td> <td>-19.4988</td> <td>9.27 </td> <td>21.9 </td> <td>5.97222 </td> <td>45.6621  </td> <td>43.0433</td> <td>0.00285276</td> <td>-15.2414</td>\n",
       "        </tr>\n",
       "    </tbody>\n",
       "        <tr>\n",
       "            <td>3   </td> <td>0.00500795</td> <td>38.8593 </td> <td>6.61 </td> <td>2.81 </td> <td>-1.14647</td> <td>355.872  </td> <td>277.114</td> <td>0.0242212 </td> <td>223.278 </td>\n",
       "        </tr>\n",
       "    </tbody>\n",
       "        <tr>\n",
       "            <td>4   </td> <td>0.0083817 </td> <td>-51.8935</td> <td>8.06 </td> <td>7.75 </td> <td>2.50651 </td> <td>129.032  </td> <td>79.629 </td> <td>0.0116488 </td> <td>-101.531</td>\n",
       "        </tr>\n",
       "    </tbody>\n",
       "        <tr>\n",
       "            <td>5   </td> <td>0.00996534</td> <td>-40.5912</td> <td>8.55 </td> <td>2.87 </td> <td>0.839409</td> <td>348.432  </td> <td>264.589</td> <td>0.0460195 </td> <td>-226.71 </td>\n",
       "        </tr>\n",
       "    </tbody>\n",
       "        <tr>\n",
       "            <td>6   </td> <td>0.0181414 </td> <td>3.94649 </td> <td>12.31</td> <td>18.8 </td> <td>8.68079 </td> <td>53.1915  </td> <td>53.0654</td> <td>0.016802  </td> <td>3.66089 </td>\n",
       "        </tr>\n",
       "    </tbody>\n",
       "        <tr>\n",
       "            <td>7   </td> <td>0.0225489 </td> <td>20.0366 </td> <td>9.64 </td> <td>17.74</td> <td>5.88477 </td> <td>56.3698  </td> <td>52.9579</td> <td>0.0208417 </td> <td>19.3134 </td>\n",
       "        </tr>\n",
       "    </tbody>\n",
       "        <tr>\n",
       "            <td>8   </td> <td>0.0272916 </td> <td>25.8865 </td> <td>9.05 </td> <td>5.17 </td> <td>2.61745 </td> <td>193.424  </td> <td>174.016</td> <td>0.0828886 </td> <td>84.4467 </td>\n",
       "        </tr>\n",
       "    </tbody>\n",
       "        <tr>\n",
       "            <td>9   </td> <td>0.0353419 </td> <td>36.5859 </td> <td>8.59 </td> <td>4.81 </td> <td>2.00073 </td> <td>207.9    </td> <td>166.936</td> <td>0.102972  </td> <td>123.914 </td>\n",
       "        </tr>\n",
       "    </tbody>\n",
       "        <tr>\n",
       "            <td>10  </td> <td>0.0362531 </td> <td>-50.8671</td> <td>8.59 </td> <td>10.76</td> <td>3.74906 </td> <td>92.9368  </td> <td>58.6544</td> <td>0.0371128 </td> <td>-72.0896</td>\n",
       "        </tr>\n",
       "    </tbody>\n",
       "</table>\n",
       "<p>... (113700 rows omitted)</p>"
      ],
      "text/plain": [
       "HIP  | RAdeg      | DEdeg    | Vmag  | Plx   | abs_mag  | dist (pc) | x       | y          | z\n",
       "1    | 0.00091185 | 1.08901  | 9.1   | 3.54  | 1.84502  | 282.486   | 282.435 | 0.00449489 | 5.36885\n",
       "2    | 0.00379737 | -19.4988 | 9.27  | 21.9  | 5.97222  | 45.6621   | 43.0433 | 0.00285276 | -15.2414\n",
       "3    | 0.00500795 | 38.8593  | 6.61  | 2.81  | -1.14647 | 355.872   | 277.114 | 0.0242212  | 223.278\n",
       "4    | 0.0083817  | -51.8935 | 8.06  | 7.75  | 2.50651  | 129.032   | 79.629  | 0.0116488  | -101.531\n",
       "5    | 0.00996534 | -40.5912 | 8.55  | 2.87  | 0.839409 | 348.432   | 264.589 | 0.0460195  | -226.71\n",
       "6    | 0.0181414  | 3.94649  | 12.31 | 18.8  | 8.68079  | 53.1915   | 53.0654 | 0.016802   | 3.66089\n",
       "7    | 0.0225489  | 20.0366  | 9.64  | 17.74 | 5.88477  | 56.3698   | 52.9579 | 0.0208417  | 19.3134\n",
       "8    | 0.0272916  | 25.8865  | 9.05  | 5.17  | 2.61745  | 193.424   | 174.016 | 0.0828886  | 84.4467\n",
       "9    | 0.0353419  | 36.5859  | 8.59  | 4.81  | 2.00073  | 207.9     | 166.936 | 0.102972   | 123.914\n",
       "10   | 0.0362531  | -50.8671 | 8.59  | 10.76 | 3.74906  | 92.9368   | 58.6544 | 0.0371128  | -72.0896\n",
       "... (113700 rows omitted)"
      ]
     },
     "execution_count": 8,
     "metadata": {},
     "output_type": "execute_result"
    }
   ],
   "source": [
    "hip_main = Table.read_table(\"hip_cat_2.csv\", sep=',')\n",
    "hip_main"
   ]
  },
  {
   "cell_type": "markdown",
   "metadata": {},
   "source": [
    "# Sun values"
   ]
  },
  {
   "cell_type": "code",
   "execution_count": 23,
   "metadata": {},
   "outputs": [],
   "source": [
    "sun_absMag = 4.9\n",
    "sun_appMag = -26.7"
   ]
  },
  {
   "cell_type": "markdown",
   "metadata": {},
   "source": [
    "# Test"
   ]
  },
  {
   "cell_type": "code",
   "execution_count": 42,
   "metadata": {},
   "outputs": [
    {
     "data": {
      "text/plain": [
       "1.8450163101289403"
      ]
     },
     "execution_count": 42,
     "metadata": {},
     "output_type": "execute_result"
    }
   ],
   "source": [
    "hip_main.column(\"abs_mag\")[0]"
   ]
  },
  {
   "cell_type": "code",
   "execution_count": 45,
   "metadata": {
    "scrolled": true
   },
   "outputs": [
    {
     "data": {
      "text/plain": [
       "numpy.float64"
      ]
     },
     "execution_count": 45,
     "metadata": {},
     "output_type": "execute_result"
    }
   ],
   "source": [
    "type(hip_main.column(\"abs_mag\")[0])"
   ]
  },
  {
   "cell_type": "code",
   "execution_count": 43,
   "metadata": {},
   "outputs": [
    {
     "data": {
      "text/html": [
       "<table border=\"1\" class=\"dataframe\">\n",
       "    <thead>\n",
       "        <tr>\n",
       "            <th>HIP</th> <th>RAdeg</th> <th>DEdeg</th> <th>Vmag</th> <th>Plx</th> <th>abs_mag</th> <th>dist (pc)</th> <th>x</th> <th>y</th> <th>z</th>\n",
       "        </tr>\n",
       "    </thead>\n",
       "    <tbody>\n",
       "        <tr>\n",
       "            <td>1   </td> <td>0.00091185</td> <td>1.08901</td> <td>9.1 </td> <td>3.54</td> <td>1.84502</td> <td>282.486  </td> <td>282.435</td> <td>0.00449489</td> <td>5.36885</td>\n",
       "        </tr>\n",
       "    </tbody>\n",
       "</table>"
      ],
      "text/plain": [
       "HIP  | RAdeg      | DEdeg   | Vmag | Plx  | abs_mag | dist (pc) | x       | y          | z\n",
       "1    | 0.00091185 | 1.08901 | 9.1  | 3.54 | 1.84502 | 282.486   | 282.435 | 0.00449489 | 5.36885"
      ]
     },
     "execution_count": 43,
     "metadata": {},
     "output_type": "execute_result"
    }
   ],
   "source": [
    "hip_main.where(5, are.equal_to(hip_main.column(\"abs_mag\")[0]))#.select(0, 6, 3, 5)"
   ]
  },
  {
   "cell_type": "code",
   "execution_count": 44,
   "metadata": {},
   "outputs": [
    {
     "data": {
      "text/html": [
       "<table border=\"1\" class=\"dataframe\">\n",
       "    <thead>\n",
       "        <tr>\n",
       "            <th>HIP</th> <th>RAdeg</th> <th>DEdeg</th> <th>Vmag</th> <th>Plx</th> <th>abs_mag</th> <th>dist (pc)</th> <th>x</th> <th>y</th> <th>z</th>\n",
       "        </tr>\n",
       "    </thead>\n",
       "    <tbody>\n",
       "        <tr>\n",
       "            <td>1   </td> <td>0.00091185</td> <td>1.08901</td> <td>9.1 </td> <td>3.54</td> <td>1.84502</td> <td>282.486  </td> <td>282.435</td> <td>0.00449489</td> <td>5.36885</td>\n",
       "        </tr>\n",
       "    </tbody>\n",
       "</table>"
      ],
      "text/plain": [
       "HIP  | RAdeg      | DEdeg   | Vmag | Plx  | abs_mag | dist (pc) | x       | y          | z\n",
       "1    | 0.00091185 | 1.08901 | 9.1  | 3.54 | 1.84502 | 282.486   | 282.435 | 0.00449489 | 5.36885"
      ]
     },
     "execution_count": 44,
     "metadata": {},
     "output_type": "execute_result"
    }
   ],
   "source": [
    "hip_main.where(5, are.equal_to(1.8450163101289403))#.select(0, 6, 3, 5)"
   ]
  },
  {
   "cell_type": "markdown",
   "metadata": {},
   "source": [
    "# Tabla vacía con valores iguales a 4.9"
   ]
  },
  {
   "cell_type": "code",
   "execution_count": 36,
   "metadata": {},
   "outputs": [
    {
     "data": {
      "text/html": [
       "<table border=\"1\" class=\"dataframe\">\n",
       "    <thead>\n",
       "        <tr>\n",
       "            <th>HIP</th> <th>RAdeg</th> <th>DEdeg</th> <th>Vmag</th> <th>Plx</th> <th>abs_mag</th> <th>dist (pc)</th> <th>x</th> <th>y</th> <th>z</th>\n",
       "        </tr>\n",
       "    </thead>\n",
       "    <tbody>\n",
       "</table>"
      ],
      "text/plain": [
       "HIP  | RAdeg | DEdeg | Vmag | Plx  | abs_mag | dist (pc) | x    | y    | z"
      ]
     },
     "execution_count": 36,
     "metadata": {},
     "output_type": "execute_result"
    }
   ],
   "source": [
    "hip_main.where(\"abs_mag\", 4.9)"
   ]
  },
  {
   "cell_type": "code",
   "execution_count": 37,
   "metadata": {
    "scrolled": true
   },
   "outputs": [
    {
     "data": {
      "text/html": [
       "<table border=\"1\" class=\"dataframe\">\n",
       "    <thead>\n",
       "        <tr>\n",
       "            <th>HIP</th> <th>RAdeg</th> <th>DEdeg</th> <th>Vmag</th> <th>Plx</th> <th>abs_mag</th> <th>dist (pc)</th> <th>x</th> <th>y</th> <th>z</th>\n",
       "        </tr>\n",
       "    </thead>\n",
       "    <tbody>\n",
       "</table>"
      ],
      "text/plain": [
       "HIP  | RAdeg | DEdeg | Vmag | Plx  | abs_mag | dist (pc) | x    | y    | z"
      ]
     },
     "execution_count": 37,
     "metadata": {},
     "output_type": "execute_result"
    }
   ],
   "source": [
    "hip_main.where(\"abs_mag\", are.equal_to(4.9))"
   ]
  },
  {
   "cell_type": "markdown",
   "metadata": {},
   "source": [
    "# Valores menores o iguales a 4.9"
   ]
  },
  {
   "cell_type": "code",
   "execution_count": 58,
   "metadata": {},
   "outputs": [
    {
     "data": {
      "text/html": [
       "<table border=\"1\" class=\"dataframe\">\n",
       "    <thead>\n",
       "        <tr>\n",
       "            <th>HIP</th> <th>dist (pc)</th> <th>Vmag</th> <th>abs_mag</th>\n",
       "        </tr>\n",
       "    </thead>\n",
       "    <tbody>\n",
       "        <tr>\n",
       "            <td>1   </td> <td>282.486  </td> <td>9.1 </td> <td>1.84502 </td>\n",
       "        </tr>\n",
       "    </tbody>\n",
       "        <tr>\n",
       "            <td>3   </td> <td>355.872  </td> <td>6.61</td> <td>-1.14647</td>\n",
       "        </tr>\n",
       "    </tbody>\n",
       "        <tr>\n",
       "            <td>4   </td> <td>129.032  </td> <td>8.06</td> <td>2.50651 </td>\n",
       "        </tr>\n",
       "    </tbody>\n",
       "        <tr>\n",
       "            <td>5   </td> <td>348.432  </td> <td>8.55</td> <td>0.839409</td>\n",
       "        </tr>\n",
       "    </tbody>\n",
       "        <tr>\n",
       "            <td>8   </td> <td>193.424  </td> <td>9.05</td> <td>2.61745 </td>\n",
       "        </tr>\n",
       "    </tbody>\n",
       "        <tr>\n",
       "            <td>9   </td> <td>207.9    </td> <td>8.59</td> <td>2.00073 </td>\n",
       "        </tr>\n",
       "    </tbody>\n",
       "        <tr>\n",
       "            <td>10  </td> <td>92.9368  </td> <td>8.59</td> <td>3.74906 </td>\n",
       "        </tr>\n",
       "    </tbody>\n",
       "        <tr>\n",
       "            <td>11  </td> <td>233.1    </td> <td>7.34</td> <td>0.502286</td>\n",
       "        </tr>\n",
       "    </tbody>\n",
       "        <tr>\n",
       "            <td>12  </td> <td>246.305  </td> <td>8.43</td> <td>1.47263 </td>\n",
       "        </tr>\n",
       "    </tbody>\n",
       "        <tr>\n",
       "            <td>13  </td> <td>286.533  </td> <td>8.8 </td> <td>1.51413 </td>\n",
       "        </tr>\n",
       "    </tbody>\n",
       "</table>\n",
       "<p>... (104950 rows omitted)</p>"
      ],
      "text/plain": [
       "HIP  | dist (pc) | Vmag | abs_mag\n",
       "1    | 282.486   | 9.1  | 1.84502\n",
       "3    | 355.872   | 6.61 | -1.14647\n",
       "4    | 129.032   | 8.06 | 2.50651\n",
       "5    | 348.432   | 8.55 | 0.839409\n",
       "8    | 193.424   | 9.05 | 2.61745\n",
       "9    | 207.9     | 8.59 | 2.00073\n",
       "10   | 92.9368   | 8.59 | 3.74906\n",
       "11   | 233.1     | 7.34 | 0.502286\n",
       "12   | 246.305   | 8.43 | 1.47263\n",
       "13   | 286.533   | 8.8  | 1.51413\n",
       "... (104950 rows omitted)"
      ]
     },
     "execution_count": 58,
     "metadata": {},
     "output_type": "execute_result"
    }
   ],
   "source": [
    "absMag_lessThan = hip_main.where(hip_main['abs_mag'] <= 4.9).select(0, 6, 3, 5)\n",
    "absMag_lessThan"
   ]
  },
  {
   "cell_type": "code",
   "execution_count": 59,
   "metadata": {},
   "outputs": [
    {
     "data": {
      "text/plain": [
       "104960"
      ]
     },
     "execution_count": 59,
     "metadata": {},
     "output_type": "execute_result"
    }
   ],
   "source": [
    "absMag_lessThan.num_rows"
   ]
  },
  {
   "cell_type": "code",
   "execution_count": 60,
   "metadata": {},
   "outputs": [
    {
     "data": {
      "text/plain": [
       "array([ 1.84501631, -1.1464684 ,  2.50650851, ...,  3.36266632,\n",
       "        1.08485002, -0.80990922])"
      ]
     },
     "execution_count": 60,
     "metadata": {},
     "output_type": "execute_result"
    }
   ],
   "source": [
    "absMag_lessThan.column('abs_mag')"
   ]
  },
  {
   "cell_type": "markdown",
   "metadata": {},
   "source": [
    "# Max"
   ]
  },
  {
   "cell_type": "code",
   "execution_count": 61,
   "metadata": {},
   "outputs": [
    {
     "data": {
      "text/plain": [
       "4.899733408394214"
      ]
     },
     "execution_count": 61,
     "metadata": {},
     "output_type": "execute_result"
    }
   ],
   "source": [
    "max(absMag_lessThan.column('abs_mag'))"
   ]
  },
  {
   "cell_type": "code",
   "execution_count": 62,
   "metadata": {},
   "outputs": [
    {
     "data": {
      "text/plain": [
       "-13.31"
      ]
     },
     "execution_count": 62,
     "metadata": {},
     "output_type": "execute_result"
    }
   ],
   "source": [
    "min(absMag_lessThan.column('abs_mag'))"
   ]
  },
  {
   "cell_type": "markdown",
   "metadata": {},
   "source": [
    "# Valores mayores o iguales a 4.9"
   ]
  },
  {
   "cell_type": "code",
   "execution_count": 50,
   "metadata": {},
   "outputs": [
    {
     "data": {
      "text/html": [
       "<table border=\"1\" class=\"dataframe\">\n",
       "    <thead>\n",
       "        <tr>\n",
       "            <th>HIP</th> <th>dist (pc)</th> <th>Vmag</th> <th>abs_mag</th>\n",
       "        </tr>\n",
       "    </thead>\n",
       "    <tbody>\n",
       "        <tr>\n",
       "            <td>2   </td> <td>45.6621  </td> <td>9.27 </td> <td>5.97222</td>\n",
       "        </tr>\n",
       "    </tbody>\n",
       "        <tr>\n",
       "            <td>6   </td> <td>53.1915  </td> <td>12.31</td> <td>8.68079</td>\n",
       "        </tr>\n",
       "    </tbody>\n",
       "        <tr>\n",
       "            <td>7   </td> <td>56.3698  </td> <td>9.64 </td> <td>5.88477</td>\n",
       "        </tr>\n",
       "    </tbody>\n",
       "        <tr>\n",
       "            <td>18  </td> <td>50.1756  </td> <td>11.03</td> <td>7.52754</td>\n",
       "        </tr>\n",
       "    </tbody>\n",
       "        <tr>\n",
       "            <td>38  </td> <td>41.9463  </td> <td>8.65 </td> <td>5.53653</td>\n",
       "        </tr>\n",
       "    </tbody>\n",
       "        <tr>\n",
       "            <td>45  </td> <td>66.2252  </td> <td>9.59 </td> <td>5.48488</td>\n",
       "        </tr>\n",
       "    </tbody>\n",
       "        <tr>\n",
       "            <td>47  </td> <td>40.8998  </td> <td>10.78</td> <td>7.72139</td>\n",
       "        </tr>\n",
       "    </tbody>\n",
       "        <tr>\n",
       "            <td>54  </td> <td>47.6872  </td> <td>10.57</td> <td>7.17799</td>\n",
       "        </tr>\n",
       "    </tbody>\n",
       "        <tr>\n",
       "            <td>57  </td> <td>29.5072  </td> <td>8.27 </td> <td>5.92036</td>\n",
       "        </tr>\n",
       "    </tbody>\n",
       "        <tr>\n",
       "            <td>65  </td> <td>58.8928  </td> <td>11   </td> <td>7.14969</td>\n",
       "        </tr>\n",
       "    </tbody>\n",
       "</table>\n",
       "<p>... (8740 rows omitted)</p>"
      ],
      "text/plain": [
       "HIP  | dist (pc) | Vmag  | abs_mag\n",
       "2    | 45.6621   | 9.27  | 5.97222\n",
       "6    | 53.1915   | 12.31 | 8.68079\n",
       "7    | 56.3698   | 9.64  | 5.88477\n",
       "18   | 50.1756   | 11.03 | 7.52754\n",
       "38   | 41.9463   | 8.65  | 5.53653\n",
       "45   | 66.2252   | 9.59  | 5.48488\n",
       "47   | 40.8998   | 10.78 | 7.72139\n",
       "54   | 47.6872   | 10.57 | 7.17799\n",
       "57   | 29.5072   | 8.27  | 5.92036\n",
       "65   | 58.8928   | 11    | 7.14969\n",
       "... (8740 rows omitted)"
      ]
     },
     "execution_count": 50,
     "metadata": {},
     "output_type": "execute_result"
    }
   ],
   "source": [
    "absMag_higherThan = hip_main.where(hip_main['abs_mag'] >= 4.9).select(0, 6, 3, 5)\n",
    "absMag_higherThan"
   ]
  },
  {
   "cell_type": "code",
   "execution_count": 51,
   "metadata": {},
   "outputs": [
    {
     "data": {
      "text/plain": [
       "8750"
      ]
     },
     "execution_count": 51,
     "metadata": {},
     "output_type": "execute_result"
    }
   ],
   "source": [
    "absMag_higherThan.num_rows"
   ]
  },
  {
   "cell_type": "code",
   "execution_count": 53,
   "metadata": {},
   "outputs": [
    {
     "data": {
      "text/plain": [
       "array([5.97222057, 8.68078925, 5.88476808, ..., 6.82913389, 8.80732206,\n",
       "       5.61876692])"
      ]
     },
     "execution_count": 53,
     "metadata": {},
     "output_type": "execute_result"
    }
   ],
   "source": [
    "absMag_higherThan.column('abs_mag')"
   ]
  },
  {
   "cell_type": "code",
   "execution_count": 56,
   "metadata": {},
   "outputs": [
    {
     "data": {
      "text/plain": [
       "15.449014523417619"
      ]
     },
     "execution_count": 56,
     "metadata": {},
     "output_type": "execute_result"
    }
   ],
   "source": [
    "max(absMag_higherThan.column('abs_mag'))"
   ]
  },
  {
   "cell_type": "markdown",
   "metadata": {},
   "source": [
    "# Min"
   ]
  },
  {
   "cell_type": "code",
   "execution_count": 57,
   "metadata": {},
   "outputs": [
    {
     "data": {
      "text/plain": [
       "4.900053978576052"
      ]
     },
     "execution_count": 57,
     "metadata": {},
     "output_type": "execute_result"
    }
   ],
   "source": [
    "min(absMag_higherThan.column('abs_mag'))"
   ]
  },
  {
   "cell_type": "markdown",
   "metadata": {},
   "source": [
    "# These two stars have the most similar Absolute Magnitude to the Sun"
   ]
  },
  {
   "cell_type": "code",
   "execution_count": 63,
   "metadata": {},
   "outputs": [
    {
     "data": {
      "text/html": [
       "<table border=\"1\" class=\"dataframe\">\n",
       "    <thead>\n",
       "        <tr>\n",
       "            <th>HIP</th> <th>dist (pc)</th> <th>Vmag</th> <th>abs_mag</th>\n",
       "        </tr>\n",
       "    </thead>\n",
       "    <tbody>\n",
       "        <tr>\n",
       "            <td>70880</td> <td>115.875  </td> <td>10.22</td> <td>4.90005</td>\n",
       "        </tr>\n",
       "    </tbody>\n",
       "</table>"
      ],
      "text/plain": [
       "HIP   | dist (pc) | Vmag  | abs_mag\n",
       "70880 | 115.875   | 10.22 | 4.90005"
      ]
     },
     "execution_count": 63,
     "metadata": {},
     "output_type": "execute_result"
    }
   ],
   "source": [
    "hip_main.where(5, are.equal_to(4.900053978576052)).select(0, 6, 3, 5)"
   ]
  },
  {
   "cell_type": "code",
   "execution_count": 64,
   "metadata": {},
   "outputs": [
    {
     "data": {
      "text/html": [
       "<table border=\"1\" class=\"dataframe\">\n",
       "    <thead>\n",
       "        <tr>\n",
       "            <th>HIP</th> <th>dist (pc)</th> <th>Vmag</th> <th>abs_mag</th>\n",
       "        </tr>\n",
       "    </thead>\n",
       "    <tbody>\n",
       "        <tr>\n",
       "            <td>76696</td> <td>95.511   </td> <td>9.8 </td> <td>4.89973</td>\n",
       "        </tr>\n",
       "    </tbody>\n",
       "</table>"
      ],
      "text/plain": [
       "HIP   | dist (pc) | Vmag | abs_mag\n",
       "76696 | 95.511    | 9.8  | 4.89973"
      ]
     },
     "execution_count": 64,
     "metadata": {},
     "output_type": "execute_result"
    }
   ],
   "source": [
    "hip_main.where(5, are.equal_to(4.899733408394214)).select(0, 6, 3, 5)"
   ]
  },
  {
   "cell_type": "markdown",
   "metadata": {},
   "source": [
    "# Sort by descending True"
   ]
  },
  {
   "cell_type": "code",
   "execution_count": 66,
   "metadata": {},
   "outputs": [
    {
     "data": {
      "text/html": [
       "<table border=\"1\" class=\"dataframe\">\n",
       "    <thead>\n",
       "        <tr>\n",
       "            <th>HIP</th> <th>dist (pc)</th> <th>Vmag</th> <th>abs_mag</th>\n",
       "        </tr>\n",
       "    </thead>\n",
       "    <tbody>\n",
       "        <tr>\n",
       "            <td>76696 </td> <td>95.511   </td> <td>9.8  </td> <td>4.89973</td>\n",
       "        </tr>\n",
       "    </tbody>\n",
       "        <tr>\n",
       "            <td>12499 </td> <td>101.42   </td> <td>9.93 </td> <td>4.89938</td>\n",
       "        </tr>\n",
       "    </tbody>\n",
       "        <tr>\n",
       "            <td>109378</td> <td>21.2902  </td> <td>6.54 </td> <td>4.8991 </td>\n",
       "        </tr>\n",
       "    </tbody>\n",
       "        <tr>\n",
       "            <td>51611 </td> <td>66.7111  </td> <td>9.02 </td> <td>4.89901</td>\n",
       "        </tr>\n",
       "    </tbody>\n",
       "        <tr>\n",
       "            <td>111131</td> <td>93.3707  </td> <td>9.75 </td> <td>4.89895</td>\n",
       "        </tr>\n",
       "    </tbody>\n",
       "        <tr>\n",
       "            <td>70364 </td> <td>127.714  </td> <td>10.43</td> <td>4.89881</td>\n",
       "        </tr>\n",
       "    </tbody>\n",
       "        <tr>\n",
       "            <td>25614 </td> <td>111.235  </td> <td>10.13</td> <td>4.8988 </td>\n",
       "        </tr>\n",
       "    </tbody>\n",
       "        <tr>\n",
       "            <td>17077 </td> <td>93.8086  </td> <td>9.76 </td> <td>4.89879</td>\n",
       "        </tr>\n",
       "    </tbody>\n",
       "        <tr>\n",
       "            <td>111746</td> <td>39.6511  </td> <td>7.89 </td> <td>4.89873</td>\n",
       "        </tr>\n",
       "    </tbody>\n",
       "        <tr>\n",
       "            <td>60968 </td> <td>129.534  </td> <td>10.46</td> <td>4.89809</td>\n",
       "        </tr>\n",
       "    </tbody>\n",
       "</table>\n",
       "<p>... (104950 rows omitted)</p>"
      ],
      "text/plain": [
       "HIP    | dist (pc) | Vmag  | abs_mag\n",
       "76696  | 95.511    | 9.8   | 4.89973\n",
       "12499  | 101.42    | 9.93  | 4.89938\n",
       "109378 | 21.2902   | 6.54  | 4.8991\n",
       "51611  | 66.7111   | 9.02  | 4.89901\n",
       "111131 | 93.3707   | 9.75  | 4.89895\n",
       "70364  | 127.714   | 10.43 | 4.89881\n",
       "25614  | 111.235   | 10.13 | 4.8988\n",
       "17077  | 93.8086   | 9.76  | 4.89879\n",
       "111746 | 39.6511   | 7.89  | 4.89873\n",
       "60968  | 129.534   | 10.46 | 4.89809\n",
       "... (104950 rows omitted)"
      ]
     },
     "execution_count": 66,
     "metadata": {},
     "output_type": "execute_result"
    }
   ],
   "source": [
    "absMag_lessThan.sort(\"abs_mag\", descending = True)"
   ]
  },
  {
   "cell_type": "markdown",
   "metadata": {},
   "source": [
    "# 7554 stars are above the absolute magnitude of 4"
   ]
  },
  {
   "cell_type": "code",
   "execution_count": 76,
   "metadata": {},
   "outputs": [
    {
     "data": {
      "text/html": [
       "<table border=\"1\" class=\"dataframe\">\n",
       "    <thead>\n",
       "        <tr>\n",
       "            <th>HIP</th> <th>dist (pc)</th> <th>Vmag</th> <th>abs_mag</th>\n",
       "        </tr>\n",
       "    </thead>\n",
       "    <tbody>\n",
       "        <tr>\n",
       "            <td>27  </td> <td>103.52   </td> <td>9.32 </td> <td>4.24489</td>\n",
       "        </tr>\n",
       "    </tbody>\n",
       "        <tr>\n",
       "            <td>58  </td> <td>38.373   </td> <td>7.05 </td> <td>4.12987</td>\n",
       "        </tr>\n",
       "    </tbody>\n",
       "        <tr>\n",
       "            <td>70  </td> <td>190.476  </td> <td>10.42</td> <td>4.0208 </td>\n",
       "        </tr>\n",
       "    </tbody>\n",
       "        <tr>\n",
       "            <td>72  </td> <td>94.0734  </td> <td>8.97 </td> <td>4.10267</td>\n",
       "        </tr>\n",
       "    </tbody>\n",
       "        <tr>\n",
       "            <td>80  </td> <td>64.1437  </td> <td>8.4  </td> <td>4.36423</td>\n",
       "        </tr>\n",
       "    </tbody>\n",
       "        <tr>\n",
       "            <td>93  </td> <td>59.7372  </td> <td>8.12 </td> <td>4.23878</td>\n",
       "        </tr>\n",
       "    </tbody>\n",
       "        <tr>\n",
       "            <td>101 </td> <td>136.054  </td> <td>9.88 </td> <td>4.21144</td>\n",
       "        </tr>\n",
       "    </tbody>\n",
       "        <tr>\n",
       "            <td>118 </td> <td>82.7815  </td> <td>9.2  </td> <td>4.61033</td>\n",
       "        </tr>\n",
       "    </tbody>\n",
       "        <tr>\n",
       "            <td>212 </td> <td>161.812  </td> <td>10.24</td> <td>4.19494</td>\n",
       "        </tr>\n",
       "    </tbody>\n",
       "        <tr>\n",
       "            <td>227 </td> <td>114.679  </td> <td>9.86 </td> <td>4.56258</td>\n",
       "        </tr>\n",
       "    </tbody>\n",
       "</table>\n",
       "<p>... (7544 rows omitted)</p>"
      ],
      "text/plain": [
       "HIP  | dist (pc) | Vmag  | abs_mag\n",
       "27   | 103.52    | 9.32  | 4.24489\n",
       "58   | 38.373    | 7.05  | 4.12987\n",
       "70   | 190.476   | 10.42 | 4.0208\n",
       "72   | 94.0734   | 8.97  | 4.10267\n",
       "80   | 64.1437   | 8.4   | 4.36423\n",
       "93   | 59.7372   | 8.12  | 4.23878\n",
       "101  | 136.054   | 9.88  | 4.21144\n",
       "118  | 82.7815   | 9.2   | 4.61033\n",
       "212  | 161.812   | 10.24 | 4.19494\n",
       "227  | 114.679   | 9.86  | 4.56258\n",
       "... (7544 rows omitted)"
      ]
     },
     "execution_count": 76,
     "metadata": {},
     "output_type": "execute_result"
    }
   ],
   "source": [
    "absMag_aboveFour = absMag_lessThan.where(\"abs_mag\", are.above(4))\n",
    "absMag_aboveFour"
   ]
  },
  {
   "cell_type": "code",
   "execution_count": 77,
   "metadata": {},
   "outputs": [
    {
     "data": {
      "text/plain": [
       "4.899733408394214"
      ]
     },
     "execution_count": 77,
     "metadata": {},
     "output_type": "execute_result"
    }
   ],
   "source": [
    "max(absMag_aboveFour.column(\"abs_mag\"))"
   ]
  },
  {
   "cell_type": "code",
   "execution_count": 78,
   "metadata": {},
   "outputs": [
    {
     "data": {
      "text/plain": [
       "4.000016857918732"
      ]
     },
     "execution_count": 78,
     "metadata": {},
     "output_type": "execute_result"
    }
   ],
   "source": [
    "min(absMag_aboveFour.column(\"abs_mag\"))"
   ]
  },
  {
   "cell_type": "markdown",
   "metadata": {},
   "source": [
    "# Sort by descending False"
   ]
  },
  {
   "cell_type": "code",
   "execution_count": 68,
   "metadata": {},
   "outputs": [
    {
     "data": {
      "text/html": [
       "<table border=\"1\" class=\"dataframe\">\n",
       "    <thead>\n",
       "        <tr>\n",
       "            <th>HIP</th> <th>dist (pc)</th> <th>Vmag</th> <th>abs_mag</th>\n",
       "        </tr>\n",
       "    </thead>\n",
       "    <tbody>\n",
       "        <tr>\n",
       "            <td>70880</td> <td>115.875  </td> <td>10.22</td> <td>4.90005</td>\n",
       "        </tr>\n",
       "    </tbody>\n",
       "        <tr>\n",
       "            <td>18347</td> <td>62.5     </td> <td>8.88 </td> <td>4.9006 </td>\n",
       "        </tr>\n",
       "    </tbody>\n",
       "        <tr>\n",
       "            <td>74746</td> <td>92.4214  </td> <td>9.73 </td> <td>4.90114</td>\n",
       "        </tr>\n",
       "    </tbody>\n",
       "        <tr>\n",
       "            <td>84442</td> <td>69.7837  </td> <td>9.12 </td> <td>4.90123</td>\n",
       "        </tr>\n",
       "    </tbody>\n",
       "        <tr>\n",
       "            <td>30037</td> <td>71.0732  </td> <td>9.16 </td> <td>4.90147</td>\n",
       "        </tr>\n",
       "    </tbody>\n",
       "        <tr>\n",
       "            <td>96213</td> <td>101.317  </td> <td>9.93 </td> <td>4.90159</td>\n",
       "        </tr>\n",
       "    </tbody>\n",
       "        <tr>\n",
       "            <td>31998</td> <td>215.517  </td> <td>11.57</td> <td>4.90259</td>\n",
       "        </tr>\n",
       "    </tbody>\n",
       "        <tr>\n",
       "            <td>89268</td> <td>64.1849  </td> <td>8.94 </td> <td>4.90284</td>\n",
       "        </tr>\n",
       "    </tbody>\n",
       "        <tr>\n",
       "            <td>8678 </td> <td>77.1605  </td> <td>9.34 </td> <td>4.90303</td>\n",
       "        </tr>\n",
       "    </tbody>\n",
       "        <tr>\n",
       "            <td>64913</td> <td>91.9118  </td> <td>9.72 </td> <td>4.90314</td>\n",
       "        </tr>\n",
       "    </tbody>\n",
       "</table>\n",
       "<p>... (8740 rows omitted)</p>"
      ],
      "text/plain": [
       "HIP   | dist (pc) | Vmag  | abs_mag\n",
       "70880 | 115.875   | 10.22 | 4.90005\n",
       "18347 | 62.5      | 8.88  | 4.9006\n",
       "74746 | 92.4214   | 9.73  | 4.90114\n",
       "84442 | 69.7837   | 9.12  | 4.90123\n",
       "30037 | 71.0732   | 9.16  | 4.90147\n",
       "96213 | 101.317   | 9.93  | 4.90159\n",
       "31998 | 215.517   | 11.57 | 4.90259\n",
       "89268 | 64.1849   | 8.94  | 4.90284\n",
       "8678  | 77.1605   | 9.34  | 4.90303\n",
       "64913 | 91.9118   | 9.72  | 4.90314\n",
       "... (8740 rows omitted)"
      ]
     },
     "execution_count": 68,
     "metadata": {},
     "output_type": "execute_result"
    }
   ],
   "source": [
    "absMag_higherThan.sort(\"abs_mag\", descending = False)"
   ]
  },
  {
   "cell_type": "markdown",
   "metadata": {},
   "source": [
    "# 505 stars are below the absolute magnitude of 5"
   ]
  },
  {
   "cell_type": "code",
   "execution_count": 70,
   "metadata": {},
   "outputs": [
    {
     "data": {
      "text/html": [
       "<table border=\"1\" class=\"dataframe\">\n",
       "    <thead>\n",
       "        <tr>\n",
       "            <th>HIP</th> <th>dist (pc)</th> <th>Vmag</th> <th>abs_mag</th>\n",
       "        </tr>\n",
       "    </thead>\n",
       "    <tbody>\n",
       "        <tr>\n",
       "            <td>337 </td> <td>84.246   </td> <td>9.6  </td> <td>4.97225</td>\n",
       "        </tr>\n",
       "    </tbody>\n",
       "        <tr>\n",
       "            <td>1411</td> <td>68.5871  </td> <td>9.09 </td> <td>4.90879</td>\n",
       "        </tr>\n",
       "    </tbody>\n",
       "        <tr>\n",
       "            <td>1437</td> <td>61.5764  </td> <td>8.88 </td> <td>4.93293</td>\n",
       "        </tr>\n",
       "    </tbody>\n",
       "        <tr>\n",
       "            <td>1598</td> <td>24.8447  </td> <td>6.97 </td> <td>4.99383</td>\n",
       "        </tr>\n",
       "    </tbody>\n",
       "        <tr>\n",
       "            <td>1625</td> <td>51.573   </td> <td>8.5  </td> <td>4.93789</td>\n",
       "        </tr>\n",
       "    </tbody>\n",
       "        <tr>\n",
       "            <td>1742</td> <td>73.3676  </td> <td>9.31 </td> <td>4.98248</td>\n",
       "        </tr>\n",
       "    </tbody>\n",
       "        <tr>\n",
       "            <td>2067</td> <td>184.162  </td> <td>11.28</td> <td>4.954  </td>\n",
       "        </tr>\n",
       "    </tbody>\n",
       "        <tr>\n",
       "            <td>2460</td> <td>123.609  </td> <td>10.4 </td> <td>4.93974</td>\n",
       "        </tr>\n",
       "    </tbody>\n",
       "        <tr>\n",
       "            <td>2563</td> <td>56.1798  </td> <td>8.66 </td> <td>4.9121 </td>\n",
       "        </tr>\n",
       "    </tbody>\n",
       "        <tr>\n",
       "            <td>2894</td> <td>55.4631  </td> <td>8.64 </td> <td>4.91998</td>\n",
       "        </tr>\n",
       "    </tbody>\n",
       "</table>\n",
       "<p>... (495 rows omitted)</p>"
      ],
      "text/plain": [
       "HIP  | dist (pc) | Vmag  | abs_mag\n",
       "337  | 84.246    | 9.6   | 4.97225\n",
       "1411 | 68.5871   | 9.09  | 4.90879\n",
       "1437 | 61.5764   | 8.88  | 4.93293\n",
       "1598 | 24.8447   | 6.97  | 4.99383\n",
       "1625 | 51.573    | 8.5   | 4.93789\n",
       "1742 | 73.3676   | 9.31  | 4.98248\n",
       "2067 | 184.162   | 11.28 | 4.954\n",
       "2460 | 123.609   | 10.4  | 4.93974\n",
       "2563 | 56.1798   | 8.66  | 4.9121\n",
       "2894 | 55.4631   | 8.64  | 4.91998\n",
       "... (495 rows omitted)"
      ]
     },
     "execution_count": 70,
     "metadata": {},
     "output_type": "execute_result"
    }
   ],
   "source": [
    "absMag_belowFive = absMag_higherThan.where(\"abs_mag\", are.below(5))\n",
    "absMag_belowFive"
   ]
  },
  {
   "cell_type": "code",
   "execution_count": 71,
   "metadata": {},
   "outputs": [
    {
     "data": {
      "text/plain": [
       "4.999774856698004"
      ]
     },
     "execution_count": 71,
     "metadata": {},
     "output_type": "execute_result"
    }
   ],
   "source": [
    "max(absMag_belowFive.column(\"abs_mag\"))"
   ]
  },
  {
   "cell_type": "code",
   "execution_count": 72,
   "metadata": {},
   "outputs": [
    {
     "data": {
      "text/plain": [
       "4.900053978576052"
      ]
     },
     "execution_count": 72,
     "metadata": {},
     "output_type": "execute_result"
    }
   ],
   "source": [
    "min(absMag_belowFive.column(\"abs_mag\"))"
   ]
  },
  {
   "cell_type": "markdown",
   "metadata": {},
   "source": [
    "# 8059 stars have the most similar Absolute Magnitude to the Sun"
   ]
  },
  {
   "cell_type": "code",
   "execution_count": 84,
   "metadata": {},
   "outputs": [
    {
     "data": {
      "text/plain": [
       "8059"
      ]
     },
     "execution_count": 84,
     "metadata": {},
     "output_type": "execute_result"
    }
   ],
   "source": [
    "absMag_belowFive.num_rows + absMag_aboveFour.num_rows"
   ]
  },
  {
   "cell_type": "code",
   "execution_count": null,
   "metadata": {},
   "outputs": [],
   "source": []
  }
 ],
 "metadata": {
  "kernelspec": {
   "display_name": "Python 3",
   "language": "python",
   "name": "python3"
  },
  "language_info": {
   "codemirror_mode": {
    "name": "ipython",
    "version": 3
   },
   "file_extension": ".py",
   "mimetype": "text/x-python",
   "name": "python",
   "nbconvert_exporter": "python",
   "pygments_lexer": "ipython3",
   "version": "3.7.6"
  }
 },
 "nbformat": 4,
 "nbformat_minor": 2
}
