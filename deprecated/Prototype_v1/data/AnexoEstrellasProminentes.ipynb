{
 "cells": [
  {
   "cell_type": "code",
   "execution_count": 3,
   "metadata": {},
   "outputs": [],
   "source": [
    "from datascience import *\n",
    "import pandas as pd\n",
    "import seaborn as sns\n",
    "import numpy as np\n",
    "import math\n",
    "\n",
    "from astropy import units as u\n",
    "from astropy.time import Time\n",
    "from astropy.coordinates import SkyCoord\n",
    "\n",
    "%matplotlib inline\n",
    "import matplotlib.pyplot as plots\n",
    "plots.style.use('fivethirtyeight')"
   ]
  },
  {
   "cell_type": "markdown",
   "metadata": {},
   "source": [
    "# Anexo: Estrellas Prominentes del Catálogo de Hipparcos\n",
    "### https://es.wikipedia.org/wiki/Anexo:Estrellas_del_Cat%C3%A1logo_Hipparcos\n",
    "### https://www.cosmos.esa.int/web/hipparcos/sample-tables-1"
   ]
  },
  {
   "cell_type": "code",
   "execution_count": 4,
   "metadata": {},
   "outputs": [
    {
     "data": {
      "text/html": [
       "<table border=\"1\" class=\"dataframe\">\n",
       "    <thead>\n",
       "        <tr>\n",
       "            <th>HIP</th> <th>RAdeg</th> <th>DEdeg</th> <th>Vmag</th> <th>Plx</th> <th>abs_mag</th> <th>dist (pc)</th> <th>x</th> <th>y</th> <th>z</th>\n",
       "        </tr>\n",
       "    </thead>\n",
       "    <tbody>\n",
       "        <tr>\n",
       "            <td>1   </td> <td>0.00091185</td> <td>1.08901 </td> <td>9.1 </td> <td>3.54</td> <td>1.84502</td> <td>282.486  </td> <td>282.435</td> <td>0.00449489</td> <td>5.36885 </td>\n",
       "        </tr>\n",
       "        <tr>\n",
       "            <td>2   </td> <td>0.00379737</td> <td>-19.4988</td> <td>9.27</td> <td>21.9</td> <td>5.97222</td> <td>45.6621  </td> <td>43.0433</td> <td>0.00285276</td> <td>-15.2414</td>\n",
       "        </tr>\n",
       "    </tbody>\n",
       "</table>\n",
       "<p>... (113708 rows omitted)</p>"
      ],
      "text/plain": [
       "<IPython.core.display.HTML object>"
      ]
     },
     "metadata": {},
     "output_type": "display_data"
    }
   ],
   "source": [
    "hip_main = Table.read_table(\"hip_cat_2.csv\", sep=',')\n",
    "hip_main.show(2)"
   ]
  },
  {
   "cell_type": "code",
   "execution_count": 5,
   "metadata": {},
   "outputs": [
    {
     "data": {
      "text/plain": [
       "199.26652199999998"
      ]
     },
     "execution_count": 5,
     "metadata": {},
     "output_type": "execute_result"
    }
   ],
   "source": [
    "def pcToLy(pc):\n",
    "    ly = pc * 3.26\n",
    "    return ly\n",
    "\n",
    "pcToLy(61.1247)"
   ]
  },
  {
   "cell_type": "code",
   "execution_count": 6,
   "metadata": {},
   "outputs": [
    {
     "data": {
      "text/plain": [
       "29.7619"
      ]
     },
     "execution_count": 6,
     "metadata": {},
     "output_type": "execute_result"
    }
   ],
   "source": [
    "def lyToPc(ly):\n",
    "    pc = ly / 3.26\n",
    "    return pc\n",
    "\n",
    "lyToPc(97.023794)"
   ]
  },
  {
   "cell_type": "code",
   "execution_count": 7,
   "metadata": {},
   "outputs": [
    {
     "data": {
      "text/plain": [
       "29.754601226993866"
      ]
     },
     "execution_count": 7,
     "metadata": {},
     "output_type": "execute_result"
    }
   ],
   "source": [
    "lyToPc(97)"
   ]
  },
  {
   "cell_type": "code",
   "execution_count": 8,
   "metadata": {},
   "outputs": [],
   "source": [
    "# HIP 1 ~ 10000\n",
    "dic = {'HIP': [667], 'Estrella': ['α Andromedae (Alpheratz o Sirrah)'], 'dist (pc)': [29.7619], 'dist (ANEXO)': [lyToPc(97)]} \n",
    "\n",
    "dic['HIP'].append(3419)\n",
    "dic['Estrella'].append('β Ceti (Deneb Kaitos o Diphda)')\n",
    "dic['HIP'].append(3829)\n",
    "dic['Estrella'].append('Estrella de Van Maanen')    \n",
    "dic['HIP'].append(5447)\n",
    "dic['Estrella'].append('β Andromedae (Mirach)')\n",
    "dic['HIP'].append(7588)\n",
    "dic['Estrella'].append('α Eridani (Achernar)')\n",
    "dic['HIP'].append(9884)\n",
    "dic['Estrella'].append('α Arietis (Hamal)')\n",
    "\n",
    "# HIP 10001 ~ 20000\n",
    "dic['HIP'].append(10826)\n",
    "dic['Estrella'].append('ο Ceti (Mira)')\n",
    "dic['HIP'].append(11767)\n",
    "dic['Estrella'].append('α Ursae Minoris (Polaris)')\n",
    "dic['HIP'].append(15863)\n",
    "dic['Estrella'].append('α Persei (Mirfak o Algenib)')\n",
    "\n",
    "# HIP 20001 ~ 30000\n",
    "dic['HIP'].append(21421)\n",
    "dic['Estrella'].append('α Tauri (Aldebarán)')\n",
    "dic['HIP'].append(24186)\n",
    "dic['Estrella'].append('Estrella de Kapteyn')\n",
    "dic['HIP'].append(24436)\n",
    "dic['Estrella'].append('β Orionis (Rigel)')\n",
    "dic['HIP'].append(24608)\n",
    "dic['Estrella'].append('α Aurigae (Capella)')\n",
    "dic['HIP'].append(25336)\n",
    "dic['Estrella'].append('γ Orionis (Bellatrix)')\n",
    "dic['HIP'].append(25428)\n",
    "dic['Estrella'].append('β Tauri (Elnath)')\n",
    "dic['HIP'].append(25930)\n",
    "dic['Estrella'].append('δ Orionis (Mintaka)')\n",
    "dic['HIP'].append(26311)\n",
    "dic['Estrella'].append('ε Orionis (Alnilam)')\n",
    "dic['HIP'].append(26727)\n",
    "dic['Estrella'].append('ζ Orionis (Alnitak)')\n",
    "dic['HIP'].append(27366)\n",
    "dic['Estrella'].append('κ Orionis (Saiph)')\n",
    "dic['HIP'].append(27989)\n",
    "dic['Estrella'].append('α Orionis (Betelgeuse)')\n",
    "dic['HIP'].append(28360)\n",
    "dic['Estrella'].append('β Aurigae (Menkalinan)')\n",
    "\n",
    "# HIP 30001 ~ 40000\n",
    "dic['HIP'].append(30324)\n",
    "dic['Estrella'].append('β Canis Majoris (Mirzam o Murzim)')\n",
    "dic['HIP'].append(30438)\n",
    "dic['Estrella'].append('α Carinae (Canopo)')\n",
    "dic['HIP'].append(31681)\n",
    "dic['Estrella'].append('γ Geminorum (Alhena)')\n",
    "dic['HIP'].append(32349)\n",
    "dic['Estrella'].append('α Canis Majoris (Sirio)')\n",
    "dic['HIP'].append(33579)\n",
    "dic['Estrella'].append('ε Canis Majoris (Adhara)')\n",
    "dic['HIP'].append(34444)\n",
    "dic['Estrella'].append('δ Canis Majoris (Wezen)')\n",
    "dic['HIP'].append(36850)\n",
    "dic['Estrella'].append('α Geminorum (Cástor)')\n",
    "dic['HIP'].append(37279)\n",
    "dic['Estrella'].append('α Canis Minoris (Procyon)')\n",
    "dic['HIP'].append(37826)\n",
    "dic['Estrella'].append('β Geminorum (Pólux)')\n",
    "dic['HIP'].append(39953)\n",
    "dic['Estrella'].append('γ Velorum (Suhail o Regor)')\n",
    "\n",
    "# HIP 40001 ~ 50000\n",
    "dic['HIP'].append(41037)\n",
    "dic['Estrella'].append('ε Carinae (Avior)')\n",
    "dic['HIP'].append(42913)\n",
    "dic['Estrella'].append('δ Velorum')\n",
    "dic['HIP'].append(45238)\n",
    "dic['Estrella'].append('β Carinae (Miaplacidus)')\n",
    "dic['HIP'].append(46390)\n",
    "dic['Estrella'].append('α Hydrae (Alphard)')\n",
    "dic['HIP'].append(49669)\n",
    "dic['Estrella'].append('α Leonis (Regulus)')        \n",
    "\n",
    "# HIP 50001 ~ 60000\n",
    "dic['HIP'].append(50583)\n",
    "dic['Estrella'].append('γ Leonis (Algieba)')\n",
    "dic['HIP'].append(54035)\n",
    "dic['Estrella'].append('Lalande 21185')\n",
    "dic['HIP'].append(54061)\n",
    "dic['Estrella'].append('α Ursae Majoris (Dubhe)')\n",
    "dic['HIP'].append(54872)\n",
    "dic['Estrella'].append('δ Leonis (Duhr o Zosma)')\n",
    "dic['HIP'].append(54879)\n",
    "dic['Estrella'].append('θ Leonis (Chertan)')\n",
    "dic['HIP'].append(56997)\n",
    "dic['Estrella'].append('61 Ursae Majoris')\n",
    "dic['HIP'].append(57362)\n",
    "dic['Estrella'].append('β Leonis (Denébola)')\n",
    "dic['HIP'].append(57757)\n",
    "dic['Estrella'].append('β Virginis (Zavijava)')\n",
    "dic['HIP'].append(58001)\n",
    "dic['Estrella'].append('γ Ursae Majoris (Phecda)')\n",
    "dic['HIP'].append(59196)\n",
    "dic['Estrella'].append('δ Centauri')\n",
    "\n",
    "# HIP 60001 ~ 70000\n",
    "dic['HIP'].append(60351)\n",
    "dic['Estrella'].append('12 Comae Berenices')\n",
    "dic['HIP'].append(60718)\n",
    "dic['Estrella'].append('α Crucis (Acrux)')\n",
    "dic['HIP'].append(61084)\n",
    "dic['Estrella'].append('γ Crucis (Gacrux)')\n",
    "dic['HIP'].append(62434)\n",
    "dic['Estrella'].append('β Crucis (Becrux o Mimosa)')\n",
    "dic['HIP'].append(62956)\n",
    "dic['Estrella'].append('ε Ursae Majoris (Alioth)')\n",
    "dic['HIP'].append(63608)\n",
    "dic['Estrella'].append('ε Virginis (Vindemiatrix)')\n",
    "dic['HIP'].append(65474)\n",
    "dic['Estrella'].append('α Virginis (Espiga)')\n",
    "dic['HIP'].append(65835)\n",
    "dic['Estrella'].append('R Hydrae')\n",
    "dic['HIP'].append(66249)\n",
    "dic['Estrella'].append('ζ Virginis (Heze)')\n",
    "dic['HIP'].append(67301)\n",
    "dic['Estrella'].append('η Ursae Majoris (Alkaid o Benetnasch)')\n",
    "dic['HIP'].append(68702)\n",
    "dic['Estrella'].append('β Centauri (Hadar o Agena)')\n",
    "dic['HIP'].append(68933)\n",
    "dic['Estrella'].append('θ Centauri (Menkent)')\n",
    "dic['HIP'].append(69673)\n",
    "dic['Estrella'].append('α Bootis (Arturo)')\n",
    "\n",
    "# HIP 70001 ~ 80000\n",
    "dic['HIP'].append(71681)\n",
    "dic['Estrella'].append('α Centauri B (Rigil Kentaurus o Toliman)')\n",
    "dic['HIP'].append(71683)\n",
    "dic['Estrella'].append('α Centauri A (Rigil Kentaurus o Toliman)')\n",
    "dic['HIP'].append(71860)\n",
    "dic['Estrella'].append('α Lupi (Kakkab o Men)')\n",
    "dic['HIP'].append(72607)\n",
    "dic['Estrella'].append('β Ursae Minoris (Kochab)')\n",
    "dic['HIP'].append(75097)\n",
    "dic['Estrella'].append('γ Ursae Minoris (Pherkad)')\n",
    "\n",
    "# HIP 80001 ~ 90000\n",
    "dic['HIP'].append(80763)\n",
    "dic['Estrella'].append('α Scorpii (Antares)')\n",
    "dic['HIP'].append(82273)\n",
    "dic['Estrella'].append('α Trianguli Australis (Atria)')\n",
    "dic['HIP'].append(82396)\n",
    "dic['Estrella'].append('ε Scorpii (Wei)')\n",
    "dic['HIP'].append(85927)\n",
    "dic['Estrella'].append('λ Scorpii (Shaula)')\n",
    "dic['HIP'].append(86032)\n",
    "dic['Estrella'].append('α Ophiuchi (Rasalhague o Ras Alhague)')\n",
    "dic['HIP'].append(86228)\n",
    "dic['Estrella'].append('θ Scorpii (Sargas o Girtab)')\n",
    "\n",
    "# HIP 90001 ~ 100000\n",
    "dic['HIP'].append(90185)\n",
    "dic['Estrella'].append('ε Sagittarii (Kaus Australis)')\n",
    "dic['HIP'].append(90496)\n",
    "dic['Estrella'].append('λ Sagittarii (Kaus Borealis)')\n",
    "dic['HIP'].append(91262)\n",
    "dic['Estrella'].append('α Lyrae (Vega)')\n",
    "dic['HIP'].append(92403)\n",
    "dic['Estrella'].append('Ross 154')\n",
    "dic['HIP'].append(92855)\n",
    "dic['Estrella'].append('σ Sagittarii (Nunki)')\n",
    "dic['HIP'].append(97278)\n",
    "dic['Estrella'].append('γ Aquilae (Tarazed)')\n",
    "dic['HIP'].append(97649)\n",
    "dic['Estrella'].append('α Aquilae (Altair)')\n",
    "        \n",
    "# HIP 100001 ~ 110000\n",
    "dic['HIP'].append(100751)\n",
    "dic['Estrella'].append('α Pavonis (Peacock)')\n",
    "dic['HIP'].append(102098)\n",
    "dic['Estrella'].append('α Cygni (Deneb, Arided o Aridif)')\n",
    "dic['HIP'].append(105881)\n",
    "dic['Estrella'].append('ζ Capricorni (Marakk)')\n",
    "dic['HIP'].append(109268)\n",
    "dic['Estrella'].append('α Gruis (Alnair)')\n",
    "dic['HIP'].append(109358)\n",
    "dic['Estrella'].append('β Canum Venaticorum (Asterion o Chara)')\n",
    "\n",
    "# HIP 110001 ~ 120000\n",
    "dic['HIP'].append(112122)\n",
    "dic['Estrella'].append('β Gruis (Gruid)')\n",
    "dic['HIP'].append(113368)\n",
    "dic['Estrella'].append('α Piscis Austrini (Fomalhaut)')\n",
    "        "
   ]
  },
  {
   "cell_type": "code",
   "execution_count": 9,
   "metadata": {},
   "outputs": [
    {
     "data": {
      "text/plain": [
       "84"
      ]
     },
     "execution_count": 9,
     "metadata": {},
     "output_type": "execute_result"
    }
   ],
   "source": [
    "len(dic['HIP'])"
   ]
  },
  {
   "cell_type": "code",
   "execution_count": 10,
   "metadata": {},
   "outputs": [
    {
     "data": {
      "text/plain": [
       "84"
      ]
     },
     "execution_count": 10,
     "metadata": {},
     "output_type": "execute_result"
    }
   ],
   "source": [
    "len(dic['Estrella'])"
   ]
  },
  {
   "cell_type": "code",
   "execution_count": 11,
   "metadata": {},
   "outputs": [
    {
     "data": {
      "text/plain": [
       "1"
      ]
     },
     "execution_count": 11,
     "metadata": {},
     "output_type": "execute_result"
    }
   ],
   "source": [
    "len(dic['dist (pc)'])"
   ]
  },
  {
   "cell_type": "code",
   "execution_count": 12,
   "metadata": {},
   "outputs": [
    {
     "data": {
      "text/plain": [
       "1"
      ]
     },
     "execution_count": 12,
     "metadata": {},
     "output_type": "execute_result"
    }
   ],
   "source": [
    "len(dic['dist (ANEXO)'])"
   ]
  },
  {
   "cell_type": "code",
   "execution_count": 13,
   "metadata": {},
   "outputs": [
    {
     "data": {
      "text/html": [
       "<table border=\"1\" class=\"dataframe\">\n",
       "    <thead>\n",
       "        <tr>\n",
       "            <th>Estrellas</th> <th>HIP</th>\n",
       "        </tr>\n",
       "    </thead>\n",
       "    <tbody>\n",
       "        <tr>\n",
       "            <td>α Andromedae (Alpheratz o Sirrah)</td> <td>667  </td>\n",
       "        </tr>\n",
       "        <tr>\n",
       "            <td>β Ceti (Deneb Kaitos o Diphda)   </td> <td>3419 </td>\n",
       "        </tr>\n",
       "        <tr>\n",
       "            <td>Estrella de Van Maanen           </td> <td>3829 </td>\n",
       "        </tr>\n",
       "        <tr>\n",
       "            <td>β Andromedae (Mirach)            </td> <td>5447 </td>\n",
       "        </tr>\n",
       "        <tr>\n",
       "            <td>α Eridani (Achernar)             </td> <td>7588 </td>\n",
       "        </tr>\n",
       "        <tr>\n",
       "            <td>α Arietis (Hamal)                </td> <td>9884 </td>\n",
       "        </tr>\n",
       "        <tr>\n",
       "            <td>ο Ceti (Mira)                    </td> <td>10826</td>\n",
       "        </tr>\n",
       "        <tr>\n",
       "            <td>α Ursae Minoris (Polaris)        </td> <td>11767</td>\n",
       "        </tr>\n",
       "        <tr>\n",
       "            <td>α Persei (Mirfak o Algenib)      </td> <td>15863</td>\n",
       "        </tr>\n",
       "        <tr>\n",
       "            <td>α Tauri (Aldebarán)              </td> <td>21421</td>\n",
       "        </tr>\n",
       "    </tbody>\n",
       "</table>\n",
       "<p>... (74 rows omitted)</p>"
      ],
      "text/plain": [
       "Estrellas                         | HIP\n",
       "α Andromedae (Alpheratz o Sirrah) | 667\n",
       "β Ceti (Deneb Kaitos o Diphda)    | 3419\n",
       "Estrella de Van Maanen            | 3829\n",
       "β Andromedae (Mirach)             | 5447\n",
       "α Eridani (Achernar)              | 7588\n",
       "α Arietis (Hamal)                 | 9884\n",
       "ο Ceti (Mira)                     | 10826\n",
       "α Ursae Minoris (Polaris)         | 11767\n",
       "α Persei (Mirfak o Algenib)       | 15863\n",
       "α Tauri (Aldebarán)               | 21421\n",
       "... (74 rows omitted)"
      ]
     },
     "execution_count": 13,
     "metadata": {},
     "output_type": "execute_result"
    }
   ],
   "source": [
    "a = Table().with_columns(\n",
    "    'Estrellas', dic['Estrella'],\n",
    "    'HIP', dic['HIP'],\n",
    ")\n",
    "a"
   ]
  },
  {
   "cell_type": "code",
   "execution_count": 14,
   "metadata": {},
   "outputs": [
    {
     "data": {
      "text/html": [
       "<table border=\"1\" class=\"dataframe\">\n",
       "    <thead>\n",
       "        <tr>\n",
       "            <th>HIP</th> <th>dist (pc)</th>\n",
       "        </tr>\n",
       "    </thead>\n",
       "    <tbody>\n",
       "        <tr>\n",
       "            <td>1   </td> <td>282.486  </td>\n",
       "        </tr>\n",
       "        <tr>\n",
       "            <td>2   </td> <td>45.6621  </td>\n",
       "        </tr>\n",
       "        <tr>\n",
       "            <td>3   </td> <td>355.872  </td>\n",
       "        </tr>\n",
       "        <tr>\n",
       "            <td>4   </td> <td>129.032  </td>\n",
       "        </tr>\n",
       "        <tr>\n",
       "            <td>5   </td> <td>348.432  </td>\n",
       "        </tr>\n",
       "        <tr>\n",
       "            <td>6   </td> <td>53.1915  </td>\n",
       "        </tr>\n",
       "        <tr>\n",
       "            <td>7   </td> <td>56.3698  </td>\n",
       "        </tr>\n",
       "        <tr>\n",
       "            <td>8   </td> <td>193.424  </td>\n",
       "        </tr>\n",
       "        <tr>\n",
       "            <td>9   </td> <td>207.9    </td>\n",
       "        </tr>\n",
       "        <tr>\n",
       "            <td>10  </td> <td>92.9368  </td>\n",
       "        </tr>\n",
       "    </tbody>\n",
       "</table>\n",
       "<p>... (113700 rows omitted)</p>"
      ],
      "text/plain": [
       "HIP  | dist (pc)\n",
       "1    | 282.486\n",
       "2    | 45.6621\n",
       "3    | 355.872\n",
       "4    | 129.032\n",
       "5    | 348.432\n",
       "6    | 53.1915\n",
       "7    | 56.3698\n",
       "8    | 193.424\n",
       "9    | 207.9\n",
       "10   | 92.9368\n",
       "... (113700 rows omitted)"
      ]
     },
     "execution_count": 14,
     "metadata": {},
     "output_type": "execute_result"
    }
   ],
   "source": [
    "estrellasCatalogoHipparcos = hip_main.select(0, 6)\n",
    "e_cat_hip = estrellasCatalogoHipparcos\n",
    "e_cat_hip"
   ]
  },
  {
   "cell_type": "code",
   "execution_count": 15,
   "metadata": {},
   "outputs": [
    {
     "data": {
      "text/plain": [
       "84"
      ]
     },
     "execution_count": 15,
     "metadata": {},
     "output_type": "execute_result"
    }
   ],
   "source": [
    "for i in range(1, len(dic['HIP'])):\n",
    "    dic['dist (pc)'].append(e_cat_hip.where(0, are.equal_to(dic['HIP'][i])).column(1)[0])\n",
    "\n",
    "len(dic['dist (pc)'])"
   ]
  },
  {
   "cell_type": "code",
   "execution_count": 16,
   "metadata": {},
   "outputs": [],
   "source": [
    "dic['dist (ANEXO)'].append(lyToPc(96))\n",
    "dic['dist (ANEXO)'].append(lyToPc(14.1))\n",
    "dic['dist (ANEXO)'].append(lyToPc(199))\n",
    "dic['dist (ANEXO)'].append(lyToPc(144))\n",
    "dic['dist (ANEXO)'].append(lyToPc(66))\n",
    "dic['dist (ANEXO)'].append(lyToPc(418))\n",
    "dic['dist (ANEXO)'].append(lyToPc(431))\n",
    "dic['dist (ANEXO)'].append(lyToPc(590))\n",
    "dic['dist (ANEXO)'].append(lyToPc(65.1))\n",
    "dic['dist (ANEXO)'].append(lyToPc(12.8))\n",
    "dic['dist (ANEXO)'].append(lyToPc(860))\n",
    "dic['dist (ANEXO)'].append(lyToPc(42.2))\n",
    "dic['dist (ANEXO)'].append(lyToPc(240))\n",
    "dic['dist (ANEXO)'].append(lyToPc(131))\n",
    "dic['dist (ANEXO)'].append(lyToPc(915))\n",
    "dic['dist (ANEXO)'].append(lyToPc(1340))\n",
    "dic['dist (ANEXO)'].append(lyToPc(700))\n",
    "dic['dist (ANEXO)'].append(lyToPc(722))\n",
    "dic['dist (ANEXO)'].append(lyToPc(643))\n",
    "dic['dist (ANEXO)'].append(lyToPc(82.1))\n",
    "dic['dist (ANEXO)'].append(lyToPc(500))\n",
    "dic['dist (ANEXO)'].append(lyToPc(309))\n",
    "dic['dist (ANEXO)'].append(lyToPc(105))\n",
    "dic['dist (ANEXO)'].append(lyToPc(8.6))\n",
    "dic['dist (ANEXO)'].append(lyToPc(405))\n",
    "dic['dist (ANEXO)'].append(lyToPc(1800))\n",
    "dic['dist (ANEXO)'].append(lyToPc(51))\n",
    "dic['dist (ANEXO)'].append(lyToPc(11.41))\n",
    "dic['dist (ANEXO)'].append(lyToPc(33.7))\n",
    "dic['dist (ANEXO)'].append(lyToPc(800))\n",
    "dic['dist (ANEXO)'].append(lyToPc(630))\n",
    "dic['dist (ANEXO)'].append(lyToPc(79.7))\n",
    "dic['dist (ANEXO)'].append(lyToPc(111 ))\n",
    "dic['dist (ANEXO)'].append(lyToPc(177))\n",
    "dic['dist (ANEXO)'].append(lyToPc(77))\n",
    "dic['dist (ANEXO)'].append(lyToPc(131))\n",
    "dic['dist (ANEXO)'].append(lyToPc(8.31))\n",
    "dic['dist (ANEXO)'].append(lyToPc(124))\n",
    "dic['dist (ANEXO)'].append(lyToPc(57.7))\n",
    "dic['dist (ANEXO)'].append(lyToPc(165))\n",
    "dic['dist (ANEXO)'].append(lyToPc(31.1))\n",
    "dic['dist (ANEXO)'].append(lyToPc(35.9))\n",
    "dic['dist (ANEXO)'].append(lyToPc(35.6))\n",
    "dic['dist (ANEXO)'].append(lyToPc(84))\n",
    "dic['dist (ANEXO)'].append(lyToPc(395))\n",
    "dic['dist (ANEXO)'].append(lyToPc(273.394))\n",
    "dic['dist (ANEXO)'].append(lyToPc(325))\n",
    "dic['dist (ANEXO)'].append(lyToPc(88))\n",
    "dic['dist (ANEXO)'].append(lyToPc(280))\n",
    "dic['dist (ANEXO)'].append(lyToPc(81))\n",
    "dic['dist (ANEXO)'].append(lyToPc(110))\n",
    "dic['dist (ANEXO)'].append(lyToPc(260))\n",
    "dic['dist (ANEXO)'].append(lyToPc(425))\n",
    "dic['dist (ANEXO)'].append(lyToPc(73.2))\n",
    "dic['dist (ANEXO)'].append(lyToPc(101))\n",
    "dic['dist (ANEXO)'].append(lyToPc(352))\n",
    "dic['dist (ANEXO)'].append(lyToPc(60.9))\n",
    "dic['dist (ANEXO)'].append(lyToPc(36.7))\n",
    "dic['dist (ANEXO)'].append(lyToPc(4.5))\n",
    "dic['dist (ANEXO)'].append(lyToPc(4.5))\n",
    "dic['dist (ANEXO)'].append(lyToPc(550))\n",
    "dic['dist (ANEXO)'].append(lyToPc(129))\n",
    "dic['dist (ANEXO)'].append(lyToPc(480))\n",
    "dic['dist (ANEXO)'].append(lyToPc(550))\n",
    "dic['dist (ANEXO)'].append(lyToPc(415))\n",
    "dic['dist (ANEXO)'].append(lyToPc(65))\n",
    "dic['dist (ANEXO)'].append(lyToPc(570))\n",
    "dic['dist (ANEXO)'].append(lyToPc(46.7))\n",
    "dic['dist (ANEXO)'].append(lyToPc(270))\n",
    "dic['dist (ANEXO)'].append(lyToPc(145))\n",
    "dic['dist (ANEXO)'].append(lyToPc(77.3))\n",
    "dic['dist (ANEXO)'].append(lyToPc(25.3))\n",
    "dic['dist (ANEXO)'].append(lyToPc(9.68))\n",
    "dic['dist (ANEXO)'].append(lyToPc(224))\n",
    "dic['dist (ANEXO)'].append(lyToPc(461))\n",
    "dic['dist (ANEXO)'].append(lyToPc(16.73))\n",
    "dic['dist (ANEXO)'].append(lyToPc(183))\n",
    "dic['dist (ANEXO)'].append(lyToPc(1425))\n",
    "dic['dist (ANEXO)'].append(lyToPc(398))\n",
    "dic['dist (ANEXO)'].append(lyToPc(101))\n",
    "dic['dist (ANEXO)'].append(lyToPc(27.4))\n",
    "dic['dist (ANEXO)'].append(lyToPc(170))\n",
    "dic['dist (ANEXO)'].append(lyToPc(25))"
   ]
  },
  {
   "cell_type": "code",
   "execution_count": 17,
   "metadata": {},
   "outputs": [
    {
     "data": {
      "text/plain": [
       "84"
      ]
     },
     "execution_count": 17,
     "metadata": {},
     "output_type": "execute_result"
    }
   ],
   "source": [
    "len(dic['dist (ANEXO)'])\n",
    "#dic['dist (ANEXO)']"
   ]
  },
  {
   "cell_type": "code",
   "execution_count": 18,
   "metadata": {},
   "outputs": [
    {
     "data": {
      "text/html": [
       "<table border=\"1\" class=\"dataframe\">\n",
       "    <thead>\n",
       "        <tr>\n",
       "            <th>Estrellas</th> <th>HIP</th> <th>dist (Eric)</th> <th>dist (ANEXO)</th>\n",
       "        </tr>\n",
       "    </thead>\n",
       "    <tbody>\n",
       "        <tr>\n",
       "            <td>α Andromedae (Alpheratz o Sirrah)</td> <td>667  </td> <td>29.7619    </td> <td>29.7546     </td>\n",
       "        </tr>\n",
       "        <tr>\n",
       "            <td>β Ceti (Deneb Kaitos o Diphda)   </td> <td>3419 </td> <td>29.3772    </td> <td>29.4479     </td>\n",
       "        </tr>\n",
       "        <tr>\n",
       "            <td>Estrella de Van Maanen           </td> <td>3829 </td> <td>4.40626    </td> <td>4.32515     </td>\n",
       "        </tr>\n",
       "        <tr>\n",
       "            <td>β Andromedae (Mirach)            </td> <td>5447 </td> <td>61.1247    </td> <td>61.0429     </td>\n",
       "        </tr>\n",
       "        <tr>\n",
       "            <td>α Eridani (Achernar)             </td> <td>7588 </td> <td>44.0917    </td> <td>44.1718     </td>\n",
       "        </tr>\n",
       "        <tr>\n",
       "            <td>α Arietis (Hamal)                </td> <td>9884 </td> <td>20.2102    </td> <td>20.2454     </td>\n",
       "        </tr>\n",
       "        <tr>\n",
       "            <td>ο Ceti (Mira)                    </td> <td>10826</td> <td>128.37     </td> <td>128.221     </td>\n",
       "        </tr>\n",
       "        <tr>\n",
       "            <td>α Ursae Minoris (Polaris)        </td> <td>11767</td> <td>132.275    </td> <td>132.209     </td>\n",
       "        </tr>\n",
       "        <tr>\n",
       "            <td>α Persei (Mirfak o Algenib)      </td> <td>15863</td> <td>181.488    </td> <td>180.982     </td>\n",
       "        </tr>\n",
       "        <tr>\n",
       "            <td>α Tauri (Aldebarán)              </td> <td>21421</td> <td>19.9641    </td> <td>19.9693     </td>\n",
       "        </tr>\n",
       "    </tbody>\n",
       "</table>\n",
       "<p>... (74 rows omitted)</p>"
      ],
      "text/plain": [
       "Estrellas                         | HIP   | dist (Eric) | dist (ANEXO)\n",
       "α Andromedae (Alpheratz o Sirrah) | 667   | 29.7619     | 29.7546\n",
       "β Ceti (Deneb Kaitos o Diphda)    | 3419  | 29.3772     | 29.4479\n",
       "Estrella de Van Maanen            | 3829  | 4.40626     | 4.32515\n",
       "β Andromedae (Mirach)             | 5447  | 61.1247     | 61.0429\n",
       "α Eridani (Achernar)              | 7588  | 44.0917     | 44.1718\n",
       "α Arietis (Hamal)                 | 9884  | 20.2102     | 20.2454\n",
       "ο Ceti (Mira)                     | 10826 | 128.37      | 128.221\n",
       "α Ursae Minoris (Polaris)         | 11767 | 132.275     | 132.209\n",
       "α Persei (Mirfak o Algenib)       | 15863 | 181.488     | 180.982\n",
       "α Tauri (Aldebarán)               | 21421 | 19.9641     | 19.9693\n",
       "... (74 rows omitted)"
      ]
     },
     "execution_count": 18,
     "metadata": {},
     "output_type": "execute_result"
    }
   ],
   "source": [
    "e = a.with_columns(\n",
    "    'dist (Eric)', dic['dist (pc)'],\n",
    "    'dist (ANEXO)', dic['dist (ANEXO)']\n",
    ")\n",
    "e"
   ]
  },
  {
   "cell_type": "code",
   "execution_count": 19,
   "metadata": {},
   "outputs": [],
   "source": [
    "#e.to_csv('AnexoEstrellasProminentes.csv')"
   ]
  },
  {
   "cell_type": "code",
   "execution_count": 20,
   "metadata": {},
   "outputs": [
    {
     "ename": "FileNotFoundError",
     "evalue": "[Errno 2] File AnexoEstrellasProminentes.csv does not exist: 'AnexoEstrellasProminentes.csv'",
     "output_type": "error",
     "traceback": [
      "\u001b[0;31m---------------------------------------------------------------------------\u001b[0m",
      "\u001b[0;31mFileNotFoundError\u001b[0m                         Traceback (most recent call last)",
      "\u001b[0;32m<ipython-input-20-e120c4df8828>\u001b[0m in \u001b[0;36m<module>\u001b[0;34m\u001b[0m\n\u001b[0;32m----> 1\u001b[0;31m \u001b[0mtb\u001b[0m \u001b[0;34m=\u001b[0m \u001b[0mTable\u001b[0m\u001b[0;34m.\u001b[0m\u001b[0mread_table\u001b[0m\u001b[0;34m(\u001b[0m\u001b[0;34m'AnexoEstrellasProminentes.csv'\u001b[0m\u001b[0;34m)\u001b[0m\u001b[0;34m\u001b[0m\u001b[0;34m\u001b[0m\u001b[0m\n\u001b[0m\u001b[1;32m      2\u001b[0m \u001b[0mtb\u001b[0m\u001b[0;34m.\u001b[0m\u001b[0mshow\u001b[0m\u001b[0;34m(\u001b[0m\u001b[0;34m)\u001b[0m\u001b[0;34m\u001b[0m\u001b[0;34m\u001b[0m\u001b[0m\n",
      "\u001b[0;32m/opt/anaconda3/lib/python3.7/site-packages/datascience/tables.py\u001b[0m in \u001b[0;36mread_table\u001b[0;34m(cls, filepath_or_buffer, *args, **vargs)\u001b[0m\n\u001b[1;32m    123\u001b[0m         \u001b[0;32mexcept\u001b[0m \u001b[0mAttributeError\u001b[0m\u001b[0;34m:\u001b[0m\u001b[0;34m\u001b[0m\u001b[0;34m\u001b[0m\u001b[0m\n\u001b[1;32m    124\u001b[0m             \u001b[0;32mpass\u001b[0m\u001b[0;34m\u001b[0m\u001b[0;34m\u001b[0m\u001b[0m\n\u001b[0;32m--> 125\u001b[0;31m         \u001b[0mdf\u001b[0m \u001b[0;34m=\u001b[0m \u001b[0mpandas\u001b[0m\u001b[0;34m.\u001b[0m\u001b[0mread_csv\u001b[0m\u001b[0;34m(\u001b[0m\u001b[0mfilepath_or_buffer\u001b[0m\u001b[0;34m,\u001b[0m \u001b[0;34m*\u001b[0m\u001b[0margs\u001b[0m\u001b[0;34m,\u001b[0m \u001b[0;34m**\u001b[0m\u001b[0mvargs\u001b[0m\u001b[0;34m)\u001b[0m\u001b[0;34m\u001b[0m\u001b[0;34m\u001b[0m\u001b[0m\n\u001b[0m\u001b[1;32m    126\u001b[0m         \u001b[0;32mreturn\u001b[0m \u001b[0mcls\u001b[0m\u001b[0;34m.\u001b[0m\u001b[0mfrom_df\u001b[0m\u001b[0;34m(\u001b[0m\u001b[0mdf\u001b[0m\u001b[0;34m)\u001b[0m\u001b[0;34m\u001b[0m\u001b[0;34m\u001b[0m\u001b[0m\n\u001b[1;32m    127\u001b[0m \u001b[0;34m\u001b[0m\u001b[0m\n",
      "\u001b[0;32m/opt/anaconda3/lib/python3.7/site-packages/pandas/io/parsers.py\u001b[0m in \u001b[0;36mparser_f\u001b[0;34m(filepath_or_buffer, sep, delimiter, header, names, index_col, usecols, squeeze, prefix, mangle_dupe_cols, dtype, engine, converters, true_values, false_values, skipinitialspace, skiprows, skipfooter, nrows, na_values, keep_default_na, na_filter, verbose, skip_blank_lines, parse_dates, infer_datetime_format, keep_date_col, date_parser, dayfirst, cache_dates, iterator, chunksize, compression, thousands, decimal, lineterminator, quotechar, quoting, doublequote, escapechar, comment, encoding, dialect, error_bad_lines, warn_bad_lines, delim_whitespace, low_memory, memory_map, float_precision)\u001b[0m\n\u001b[1;32m    674\u001b[0m         )\n\u001b[1;32m    675\u001b[0m \u001b[0;34m\u001b[0m\u001b[0m\n\u001b[0;32m--> 676\u001b[0;31m         \u001b[0;32mreturn\u001b[0m \u001b[0m_read\u001b[0m\u001b[0;34m(\u001b[0m\u001b[0mfilepath_or_buffer\u001b[0m\u001b[0;34m,\u001b[0m \u001b[0mkwds\u001b[0m\u001b[0;34m)\u001b[0m\u001b[0;34m\u001b[0m\u001b[0;34m\u001b[0m\u001b[0m\n\u001b[0m\u001b[1;32m    677\u001b[0m \u001b[0;34m\u001b[0m\u001b[0m\n\u001b[1;32m    678\u001b[0m     \u001b[0mparser_f\u001b[0m\u001b[0;34m.\u001b[0m\u001b[0m__name__\u001b[0m \u001b[0;34m=\u001b[0m \u001b[0mname\u001b[0m\u001b[0;34m\u001b[0m\u001b[0;34m\u001b[0m\u001b[0m\n",
      "\u001b[0;32m/opt/anaconda3/lib/python3.7/site-packages/pandas/io/parsers.py\u001b[0m in \u001b[0;36m_read\u001b[0;34m(filepath_or_buffer, kwds)\u001b[0m\n\u001b[1;32m    446\u001b[0m \u001b[0;34m\u001b[0m\u001b[0m\n\u001b[1;32m    447\u001b[0m     \u001b[0;31m# Create the parser.\u001b[0m\u001b[0;34m\u001b[0m\u001b[0;34m\u001b[0m\u001b[0;34m\u001b[0m\u001b[0m\n\u001b[0;32m--> 448\u001b[0;31m     \u001b[0mparser\u001b[0m \u001b[0;34m=\u001b[0m \u001b[0mTextFileReader\u001b[0m\u001b[0;34m(\u001b[0m\u001b[0mfp_or_buf\u001b[0m\u001b[0;34m,\u001b[0m \u001b[0;34m**\u001b[0m\u001b[0mkwds\u001b[0m\u001b[0;34m)\u001b[0m\u001b[0;34m\u001b[0m\u001b[0;34m\u001b[0m\u001b[0m\n\u001b[0m\u001b[1;32m    449\u001b[0m \u001b[0;34m\u001b[0m\u001b[0m\n\u001b[1;32m    450\u001b[0m     \u001b[0;32mif\u001b[0m \u001b[0mchunksize\u001b[0m \u001b[0;32mor\u001b[0m \u001b[0miterator\u001b[0m\u001b[0;34m:\u001b[0m\u001b[0;34m\u001b[0m\u001b[0;34m\u001b[0m\u001b[0m\n",
      "\u001b[0;32m/opt/anaconda3/lib/python3.7/site-packages/pandas/io/parsers.py\u001b[0m in \u001b[0;36m__init__\u001b[0;34m(self, f, engine, **kwds)\u001b[0m\n\u001b[1;32m    878\u001b[0m             \u001b[0mself\u001b[0m\u001b[0;34m.\u001b[0m\u001b[0moptions\u001b[0m\u001b[0;34m[\u001b[0m\u001b[0;34m\"has_index_names\"\u001b[0m\u001b[0;34m]\u001b[0m \u001b[0;34m=\u001b[0m \u001b[0mkwds\u001b[0m\u001b[0;34m[\u001b[0m\u001b[0;34m\"has_index_names\"\u001b[0m\u001b[0;34m]\u001b[0m\u001b[0;34m\u001b[0m\u001b[0;34m\u001b[0m\u001b[0m\n\u001b[1;32m    879\u001b[0m \u001b[0;34m\u001b[0m\u001b[0m\n\u001b[0;32m--> 880\u001b[0;31m         \u001b[0mself\u001b[0m\u001b[0;34m.\u001b[0m\u001b[0m_make_engine\u001b[0m\u001b[0;34m(\u001b[0m\u001b[0mself\u001b[0m\u001b[0;34m.\u001b[0m\u001b[0mengine\u001b[0m\u001b[0;34m)\u001b[0m\u001b[0;34m\u001b[0m\u001b[0;34m\u001b[0m\u001b[0m\n\u001b[0m\u001b[1;32m    881\u001b[0m \u001b[0;34m\u001b[0m\u001b[0m\n\u001b[1;32m    882\u001b[0m     \u001b[0;32mdef\u001b[0m \u001b[0mclose\u001b[0m\u001b[0;34m(\u001b[0m\u001b[0mself\u001b[0m\u001b[0;34m)\u001b[0m\u001b[0;34m:\u001b[0m\u001b[0;34m\u001b[0m\u001b[0;34m\u001b[0m\u001b[0m\n",
      "\u001b[0;32m/opt/anaconda3/lib/python3.7/site-packages/pandas/io/parsers.py\u001b[0m in \u001b[0;36m_make_engine\u001b[0;34m(self, engine)\u001b[0m\n\u001b[1;32m   1112\u001b[0m     \u001b[0;32mdef\u001b[0m \u001b[0m_make_engine\u001b[0m\u001b[0;34m(\u001b[0m\u001b[0mself\u001b[0m\u001b[0;34m,\u001b[0m \u001b[0mengine\u001b[0m\u001b[0;34m=\u001b[0m\u001b[0;34m\"c\"\u001b[0m\u001b[0;34m)\u001b[0m\u001b[0;34m:\u001b[0m\u001b[0;34m\u001b[0m\u001b[0;34m\u001b[0m\u001b[0m\n\u001b[1;32m   1113\u001b[0m         \u001b[0;32mif\u001b[0m \u001b[0mengine\u001b[0m \u001b[0;34m==\u001b[0m \u001b[0;34m\"c\"\u001b[0m\u001b[0;34m:\u001b[0m\u001b[0;34m\u001b[0m\u001b[0;34m\u001b[0m\u001b[0m\n\u001b[0;32m-> 1114\u001b[0;31m             \u001b[0mself\u001b[0m\u001b[0;34m.\u001b[0m\u001b[0m_engine\u001b[0m \u001b[0;34m=\u001b[0m \u001b[0mCParserWrapper\u001b[0m\u001b[0;34m(\u001b[0m\u001b[0mself\u001b[0m\u001b[0;34m.\u001b[0m\u001b[0mf\u001b[0m\u001b[0;34m,\u001b[0m \u001b[0;34m**\u001b[0m\u001b[0mself\u001b[0m\u001b[0;34m.\u001b[0m\u001b[0moptions\u001b[0m\u001b[0;34m)\u001b[0m\u001b[0;34m\u001b[0m\u001b[0;34m\u001b[0m\u001b[0m\n\u001b[0m\u001b[1;32m   1115\u001b[0m         \u001b[0;32melse\u001b[0m\u001b[0;34m:\u001b[0m\u001b[0;34m\u001b[0m\u001b[0;34m\u001b[0m\u001b[0m\n\u001b[1;32m   1116\u001b[0m             \u001b[0;32mif\u001b[0m \u001b[0mengine\u001b[0m \u001b[0;34m==\u001b[0m \u001b[0;34m\"python\"\u001b[0m\u001b[0;34m:\u001b[0m\u001b[0;34m\u001b[0m\u001b[0;34m\u001b[0m\u001b[0m\n",
      "\u001b[0;32m/opt/anaconda3/lib/python3.7/site-packages/pandas/io/parsers.py\u001b[0m in \u001b[0;36m__init__\u001b[0;34m(self, src, **kwds)\u001b[0m\n\u001b[1;32m   1889\u001b[0m         \u001b[0mkwds\u001b[0m\u001b[0;34m[\u001b[0m\u001b[0;34m\"usecols\"\u001b[0m\u001b[0;34m]\u001b[0m \u001b[0;34m=\u001b[0m \u001b[0mself\u001b[0m\u001b[0;34m.\u001b[0m\u001b[0musecols\u001b[0m\u001b[0;34m\u001b[0m\u001b[0;34m\u001b[0m\u001b[0m\n\u001b[1;32m   1890\u001b[0m \u001b[0;34m\u001b[0m\u001b[0m\n\u001b[0;32m-> 1891\u001b[0;31m         \u001b[0mself\u001b[0m\u001b[0;34m.\u001b[0m\u001b[0m_reader\u001b[0m \u001b[0;34m=\u001b[0m \u001b[0mparsers\u001b[0m\u001b[0;34m.\u001b[0m\u001b[0mTextReader\u001b[0m\u001b[0;34m(\u001b[0m\u001b[0msrc\u001b[0m\u001b[0;34m,\u001b[0m \u001b[0;34m**\u001b[0m\u001b[0mkwds\u001b[0m\u001b[0;34m)\u001b[0m\u001b[0;34m\u001b[0m\u001b[0;34m\u001b[0m\u001b[0m\n\u001b[0m\u001b[1;32m   1892\u001b[0m         \u001b[0mself\u001b[0m\u001b[0;34m.\u001b[0m\u001b[0munnamed_cols\u001b[0m \u001b[0;34m=\u001b[0m \u001b[0mself\u001b[0m\u001b[0;34m.\u001b[0m\u001b[0m_reader\u001b[0m\u001b[0;34m.\u001b[0m\u001b[0munnamed_cols\u001b[0m\u001b[0;34m\u001b[0m\u001b[0;34m\u001b[0m\u001b[0m\n\u001b[1;32m   1893\u001b[0m \u001b[0;34m\u001b[0m\u001b[0m\n",
      "\u001b[0;32mpandas/_libs/parsers.pyx\u001b[0m in \u001b[0;36mpandas._libs.parsers.TextReader.__cinit__\u001b[0;34m()\u001b[0m\n",
      "\u001b[0;32mpandas/_libs/parsers.pyx\u001b[0m in \u001b[0;36mpandas._libs.parsers.TextReader._setup_parser_source\u001b[0;34m()\u001b[0m\n",
      "\u001b[0;31mFileNotFoundError\u001b[0m: [Errno 2] File AnexoEstrellasProminentes.csv does not exist: 'AnexoEstrellasProminentes.csv'"
     ]
    }
   ],
   "source": [
    "tb = Table.read_table('AnexoEstrellasProminentes.csv')\n",
    "tb.show()"
   ]
  },
  {
   "cell_type": "code",
   "execution_count": null,
   "metadata": {},
   "outputs": [],
   "source": [
    "print(lyToPc(1425))\n",
    "pcToLy(990.099)"
   ]
  },
  {
   "cell_type": "code",
   "execution_count": null,
   "metadata": {},
   "outputs": [],
   "source": [
    "this_dict = {'Vmag' : [2.07], 'AbsMag': [-0.298304], 'AbsMag_Anexo': ['-0,30']}\n",
    "\n",
    "this_dict"
   ]
  },
  {
   "cell_type": "code",
   "execution_count": null,
   "metadata": {},
   "outputs": [],
   "source": [
    "for i in range(1, len(dic['HIP'])):\n",
    "    this_dict['Vmag'].append(hip_main.where(0, are.equal_to(dic['HIP'][i])).column(3)[0])"
   ]
  },
  {
   "cell_type": "code",
   "execution_count": null,
   "metadata": {},
   "outputs": [],
   "source": [
    "#del this_dict['Vmag']"
   ]
  },
  {
   "cell_type": "code",
   "execution_count": null,
   "metadata": {},
   "outputs": [],
   "source": [
    "for i in range(1, len(dic['HIP'])):\n",
    "    this_dict['AbsMag'].append(hip_main.where(0, are.equal_to(dic['HIP'][i])).column(5)[0])"
   ]
  },
  {
   "cell_type": "code",
   "execution_count": null,
   "metadata": {},
   "outputs": [],
   "source": [
    "#del this_dict['AbsMag']"
   ]
  },
  {
   "cell_type": "code",
   "execution_count": null,
   "metadata": {},
   "outputs": [],
   "source": [
    "len(this_dict['Vmag'])\n",
    "#this_dict['AbsMag']"
   ]
  },
  {
   "cell_type": "code",
   "execution_count": null,
   "metadata": {},
   "outputs": [],
   "source": [
    "this_dict['AbsMag_Anexo'].append('-0,31')\n",
    "this_dict['AbsMag_Anexo'].append('+14,2')\n",
    "this_dict['AbsMag_Anexo'].append('-1,87')\n",
    "this_dict['AbsMag_Anexo'].append('-2.77')\n",
    "this_dict['AbsMag_Anexo'].append('+0,48')\n",
    "this_dict['AbsMag_Anexo'].append('+0,93')\n",
    "this_dict['AbsMag_Anexo'].append('-3,65')\n",
    "this_dict['AbsMag_Anexo'].append('-4,50')\n",
    "this_dict['AbsMag_Anexo'].append('−0,63 / +11,98')\n",
    "this_dict['AbsMag_Anexo'].append('+10,88')\n",
    "this_dict['AbsMag_Anexo'].append('-6,7  ')\n",
    "this_dict['AbsMag_Anexo'].append('-0,5 (+0,14 / +0,29)')\n",
    "this_dict['AbsMag_Anexo'].append('-2,72')\n",
    "this_dict['AbsMag_Anexo'].append('-1,34')\n",
    "this_dict['AbsMag_Anexo'].append('-4,99 (conjunta)')\n",
    "this_dict['AbsMag_Anexo'].append('-6.95')\n",
    "this_dict['AbsMag_Anexo'].append('-5,10')\n",
    "this_dict['AbsMag_Anexo'].append('-4,68')\n",
    "this_dict['AbsMag_Anexo'].append('-6,0 a -5,5')\n",
    "this_dict['AbsMag_Anexo'].append('-0,11 (conjunta)')\n",
    "this_dict['AbsMag_Anexo'].append('-3,95')\n",
    "this_dict['AbsMag_Anexo'].append('-5,53')\n",
    "this_dict['AbsMag_Anexo'].append('-0,61 ')\n",
    "this_dict['AbsMag_Anexo'].append('1,42 (A) / 11,18 (B)')\n",
    "this_dict['AbsMag_Anexo'].append('-4,10')\n",
    "this_dict['AbsMag_Anexo'].append('-6,87')\n",
    "this_dict['AbsMag_Anexo'].append('+1,22 / +2,8')\n",
    "this_dict['AbsMag_Anexo'].append('+2,65 / +13,04')\n",
    "this_dict['AbsMag_Anexo'].append('+1,09')\n",
    "this_dict['AbsMag_Anexo'].append('-5,31 / -2,79')\n",
    "this_dict['AbsMag_Anexo'].append('-4,58 (conjunta)')\n",
    "this_dict['AbsMag_Anexo'].append('0,4 / 1,5 / 3,6')\n",
    "this_dict['AbsMag_Anexo'].append('-1,00')\n",
    "this_dict['AbsMag_Anexo'].append('-1,69')\n",
    "this_dict['AbsMag_Anexo'].append('-0,5 / +4,2 / +9,5')\n",
    "this_dict['AbsMag_Anexo'].append('-0,92 (conjunta)')\n",
    "this_dict['AbsMag_Anexo'].append('+10,46')\n",
    "this_dict['AbsMag_Anexo'].append('-1,09 / +1,83 / +4,22')\n",
    "this_dict['AbsMag_Anexo'].append('+1,29')\n",
    "this_dict['AbsMag_Anexo'].append('-0,35')\n",
    "this_dict['AbsMag_Anexo'].append('+5,41')\n",
    "this_dict['AbsMag_Anexo'].append('+1,91')\n",
    "this_dict['AbsMag_Anexo'].append('+3,40')\n",
    "this_dict['AbsMag_Anexo'].append('+0,36')\n",
    "this_dict['AbsMag_Anexo'].append('-2,82')\n",
    "this_dict['AbsMag_Anexo'].append('0,16 ')\n",
    "this_dict['AbsMag_Anexo'].append('-3,6 / -2,88')\n",
    "this_dict['AbsMag_Anexo'].append('-0,56 ')\n",
    "this_dict['AbsMag_Anexo'].append('-3,92')\n",
    "this_dict['AbsMag_Anexo'].append('-0,22')\n",
    "this_dict['AbsMag_Anexo'].append('+0,22 ')\n",
    "this_dict['AbsMag_Anexo'].append('-3,55 (conjunta)')\n",
    "this_dict['AbsMag_Anexo'].append('-2,55')\n",
    "this_dict['AbsMag_Anexo'].append('+1,62')\n",
    "this_dict['AbsMag_Anexo'].append('-0,60')\n",
    "this_dict['AbsMag_Anexo'].append('-5,42')\n",
    "this_dict['AbsMag_Anexo'].append('+0,70')\n",
    "this_dict['AbsMag_Anexo'].append('−0,29')\n",
    "this_dict['AbsMag_Anexo'].append('15,49')\n",
    "this_dict['AbsMag_Anexo'].append('15,49')\n",
    "this_dict['AbsMag_Anexo'].append('-3,83')\n",
    "this_dict['AbsMag_Anexo'].append('-0,88 ')\n",
    "this_dict['AbsMag_Anexo'].append('-2,84')\n",
    "this_dict['AbsMag_Anexo'].append('-5,28')\n",
    "this_dict['AbsMag_Anexo'].append('-3,62')\n",
    "this_dict['AbsMag_Anexo'].append('+0,78')\n",
    "this_dict['AbsMag_Anexo'].append('-5,05')\n",
    "this_dict['AbsMag_Anexo'].append('+1,30')\n",
    "this_dict['AbsMag_Anexo'].append('-2,75')\n",
    "this_dict['AbsMag_Anexo'].append('-1,45')\n",
    "this_dict['AbsMag_Anexo'].append('+0,94 ')\n",
    "this_dict['AbsMag_Anexo'].append('0.58')\n",
    "this_dict['AbsMag_Anexo'].append('+13,08')\n",
    "this_dict['AbsMag_Anexo'].append('-2,14')\n",
    "this_dict['AbsMag_Anexo'].append('-3,03')\n",
    "this_dict['AbsMag_Anexo'].append('2.22')\n",
    "this_dict['AbsMag_Anexo'].append('-1,81')\n",
    "this_dict['AbsMag_Anexo'].append('-7,2 (aprox)')\n",
    "this_dict['AbsMag_Anexo'].append('-1,66')\n",
    "this_dict['AbsMag_Anexo'].append('-0,74')\n",
    "this_dict['AbsMag_Anexo'].append('+4,65')\n",
    "this_dict['AbsMag_Anexo'].append('-1,52')\n",
    "this_dict['AbsMag_Anexo'].append('+1,73')"
   ]
  },
  {
   "cell_type": "code",
   "execution_count": null,
   "metadata": {},
   "outputs": [],
   "source": [
    "len(this_dict['AbsMag_Anexo'])"
   ]
  },
  {
   "cell_type": "code",
   "execution_count": null,
   "metadata": {},
   "outputs": [],
   "source": [
    "tb = tb.with_columns(\n",
    "    'Vmag', this_dict['Vmag'],\n",
    "    'AbsMag (Eric)', this_dict['AbsMag'],\n",
    "    'Abs Mag (ANEXO)', this_dict['AbsMag_Anexo']\n",
    ")\n",
    "tb"
   ]
  },
  {
   "cell_type": "code",
   "execution_count": null,
   "metadata": {},
   "outputs": [],
   "source": [
    "#tb.to_csv('AnexoEstrellasProminentes2.csv')"
   ]
  },
  {
   "cell_type": "code",
   "execution_count": null,
   "metadata": {},
   "outputs": [],
   "source": [
    "c = Table.read_table('AnexoEstrellasProminentes2.csv')\n",
    "c"
   ]
  },
  {
   "cell_type": "markdown",
   "metadata": {},
   "source": [
    "# HIP 1 ~ 10000"
   ]
  },
  {
   "cell_type": "markdown",
   "metadata": {},
   "source": [
    "####    677: α Andromedae (Alpheratz o Sirrah) | Distancia \t97 ± 2 años-luz | Magnitud visual \t+2,02 a +2,06 | Magnitud absoluta \t-0,30 "
   ]
  },
  {
   "cell_type": "code",
   "execution_count": null,
   "metadata": {},
   "outputs": [],
   "source": [
    "hip_main.where(0, are.equal_to(677)).select(0, 6, 3, 5)"
   ]
  },
  {
   "cell_type": "markdown",
   "metadata": {},
   "source": [
    "####    3419: β Ceti (Deneb Kaitos o Diphda) | Distancia \t96 ± 2 años luz | Magnitud visual \t+2,04 | Magnitud absoluta \t-0,31 "
   ]
  },
  {
   "cell_type": "code",
   "execution_count": null,
   "metadata": {},
   "outputs": [],
   "source": [
    "hip_main.where(0, are.equal_to(3419)).select(0, 6, 3, 5)"
   ]
  },
  {
   "cell_type": "markdown",
   "metadata": {},
   "source": [
    "####    3829: Estrella de Van Maanen | Distancia \t14,1 ± 0,1 años luz | Magnitud visual \t+12,4 | Magnitud absoluta \t+14,2 "
   ]
  },
  {
   "cell_type": "code",
   "execution_count": null,
   "metadata": {},
   "outputs": [],
   "source": [
    "hip_main.where(0, are.equal_to(3829)).select(0, 6, 3, 5)"
   ]
  },
  {
   "cell_type": "markdown",
   "metadata": {},
   "source": [
    "####    5447: β Andromedae (Mirach) | Distancia \t199 ± 9 años luz | Magnitud visual \t+2,01 a +2,10 | Magnitud absoluta \t-1,87 "
   ]
  },
  {
   "cell_type": "code",
   "execution_count": null,
   "metadata": {},
   "outputs": [],
   "source": [
    "hip_main.where(0, are.equal_to(5447)).select(0, 6, 3, 5)"
   ]
  },
  {
   "cell_type": "markdown",
   "metadata": {},
   "source": [
    "####    7588: α Eridani (Achernar) | Distancia 144 años luz | Mag. aparente (V)\t+0.45 (var) | Magnitud absoluta\t-2.77"
   ]
  },
  {
   "cell_type": "code",
   "execution_count": null,
   "metadata": {},
   "outputs": [],
   "source": [
    "hip_main.where(0, are.equal_to(7588)).select(0, 6, 3, 5)"
   ]
  },
  {
   "cell_type": "markdown",
   "metadata": {},
   "source": [
    "####    9884: α Arietis (Hamal) | Distancia \t66 ± 1 años luz | Magnitud visual \t+2,00 | Magnitud absoluta \t+0,48 "
   ]
  },
  {
   "cell_type": "code",
   "execution_count": null,
   "metadata": {},
   "outputs": [],
   "source": [
    "hip_main.where(0, are.equal_to(9884)).select(0, 6, 3, 5)"
   ]
  },
  {
   "cell_type": "markdown",
   "metadata": {},
   "source": [
    "# HIP 10001 ~ 20000"
   ]
  },
  {
   "cell_type": "markdown",
   "metadata": {},
   "source": [
    "####    10826: ο Ceti (Mira) | Distancia \t418 años luz (aprox) | Magnitud visual \t+2,0 a +10,1 (variable) | Magnitud absoluta \t+0,93 "
   ]
  },
  {
   "cell_type": "code",
   "execution_count": null,
   "metadata": {},
   "outputs": [],
   "source": [
    "hip_main.where(0, are.equal_to(10826)).select(0, 6, 3, 5)"
   ]
  },
  {
   "cell_type": "markdown",
   "metadata": {},
   "source": [
    "####    11767: α Ursae Minoris (Polaris) | Distancia\t431 años luz (132 pc) | Mag. aparente (V)\t+1,97 | Magnitud absoluta\t-3,65"
   ]
  },
  {
   "cell_type": "code",
   "execution_count": 22,
   "metadata": {},
   "outputs": [
    {
     "data": {
      "text/html": [
       "<table border=\"1\" class=\"dataframe\">\n",
       "    <thead>\n",
       "        <tr>\n",
       "            <th>HIP</th> <th>RAdeg</th> <th>DEdeg</th> <th>dist (pc)</th> <th>Vmag</th> <th>abs_mag</th>\n",
       "        </tr>\n",
       "    </thead>\n",
       "    <tbody>\n",
       "        <tr>\n",
       "            <td>11767</td> <td>37.9461</td> <td>89.2641</td> <td>132.275  </td> <td>1.97</td> <td>-3.63739</td>\n",
       "        </tr>\n",
       "    </tbody>\n",
       "</table>"
      ],
      "text/plain": [
       "HIP   | RAdeg   | DEdeg   | dist (pc) | Vmag | abs_mag\n",
       "11767 | 37.9461 | 89.2641 | 132.275   | 1.97 | -3.63739"
      ]
     },
     "execution_count": 22,
     "metadata": {},
     "output_type": "execute_result"
    }
   ],
   "source": [
    "hip_main.where(0, are.equal_to(11767)).select(0, 1, 2, 6, 3, 5)"
   ]
  },
  {
   "cell_type": "code",
   "execution_count": 23,
   "metadata": {},
   "outputs": [
    {
     "data": {
      "text/plain": [
       "431.2165"
      ]
     },
     "execution_count": 23,
     "metadata": {},
     "output_type": "execute_result"
    }
   ],
   "source": [
    "pcToLy(132.275)"
   ]
  },
  {
   "cell_type": "markdown",
   "metadata": {},
   "source": [
    "####    15863: α Persei (Mirfak o Algenib) | Distancia \t590 años luz (aprox) | Magnitud visual \t+1,79 | Magnitud absoluta \t-4,50 "
   ]
  },
  {
   "cell_type": "code",
   "execution_count": null,
   "metadata": {},
   "outputs": [],
   "source": [
    "hip_main.where(0, are.equal_to(15863)).select(0, 6, 3, 5)"
   ]
  },
  {
   "cell_type": "markdown",
   "metadata": {},
   "source": [
    "# HIP 20001 ~ 30000"
   ]
  },
  {
   "cell_type": "markdown",
   "metadata": {},
   "source": [
    "####    21421: α Tauri (Aldebarán) | Distancia\t65,1 ± 1 años luz | Mag. aparente (V)\t+0,85 / +13,50 | Magnitud absoluta\t−0,63 / +11,98"
   ]
  },
  {
   "cell_type": "code",
   "execution_count": null,
   "metadata": {},
   "outputs": [],
   "source": [
    "hip_main.where(0, are.equal_to(21421)).select(0, 6, 3, 5)"
   ]
  },
  {
   "cell_type": "markdown",
   "metadata": {},
   "source": [
    "####    24186: Estrella de Kapteyn | Distancia \t12,8 ± 0,04 años luz | Magnitud visual \t+8,89 | Magnitud absoluta \t+10,88 "
   ]
  },
  {
   "cell_type": "code",
   "execution_count": null,
   "metadata": {},
   "outputs": [],
   "source": [
    "hip_main.where(0, are.equal_to(24186)).select(0, 6, 3, 5)"
   ]
  },
  {
   "cell_type": "markdown",
   "metadata": {},
   "source": [
    "####    24436: β Orionis (Rigel) | Distancia \t860 años luz (aprox) | Magnitud visual \t+0,18 | Magnitud absoluta \t-6,7 "
   ]
  },
  {
   "cell_type": "code",
   "execution_count": null,
   "metadata": {},
   "outputs": [],
   "source": [
    "hip_main.where(0, are.equal_to(24436)).select(0, 6, 3, 5)"
   ]
  },
  {
   "cell_type": "markdown",
   "metadata": {},
   "source": [
    "####    24608: α Aurigae (Capella) | Distancia \t42,2 ± 0,5 años luz | Magnitud visual \t+0,71 / +0,96 | Magnitud absoluta \t-0,5 (+0,14 / +0,29)"
   ]
  },
  {
   "cell_type": "code",
   "execution_count": null,
   "metadata": {},
   "outputs": [],
   "source": [
    "hip_main.where(0, are.equal_to(24608)).select(0, 6, 3, 5)"
   ]
  },
  {
   "cell_type": "markdown",
   "metadata": {},
   "source": [
    "####    25336: γ Orionis (Bellatrix) | Distancia \t240 ± 20 años luz | Magnitud visual \t+1,64 | Magnitud absoluta \t-2,72 "
   ]
  },
  {
   "cell_type": "code",
   "execution_count": null,
   "metadata": {},
   "outputs": [],
   "source": [
    "hip_main.where(0, are.equal_to(25336)).select(0, 6, 3, 5)"
   ]
  },
  {
   "cell_type": "markdown",
   "metadata": {},
   "source": [
    "####    25428: β Tauri (Elnath) | Distancia \t131 ± 5 años luz | Magnitud visual \t+1,68 | Magnitud absoluta \t-1,34 "
   ]
  },
  {
   "cell_type": "code",
   "execution_count": null,
   "metadata": {},
   "outputs": [],
   "source": [
    "hip_main.where(0, are.equal_to(25428)).select(0, 6, 3, 5)"
   ]
  },
  {
   "cell_type": "markdown",
   "metadata": {},
   "source": [
    "####    25930: δ Orionis (Mintaka) | Distancia\t915 años luz | Mag. aparente (V)\t+2,23 (conjunta) | Magnitud absoluta\t-4,99 (conjunta)"
   ]
  },
  {
   "cell_type": "code",
   "execution_count": null,
   "metadata": {},
   "outputs": [],
   "source": [
    "hip_main.where(0, are.equal_to(25930)).select(0, 6, 3, 5)"
   ]
  },
  {
   "cell_type": "markdown",
   "metadata": {},
   "source": [
    "####    26311: ε Orionis (Alnilam) | Distancia\t1340 años luz (600 pc) | Mag. aparente (V)\t+1.70 (1.64—1.74) | Magnitud absoluta\t-6.95"
   ]
  },
  {
   "cell_type": "code",
   "execution_count": null,
   "metadata": {},
   "outputs": [],
   "source": [
    "hip_main.where(0, are.equal_to(26311)).select(0, 6, 3, 5)"
   ]
  },
  {
   "cell_type": "markdown",
   "metadata": {},
   "source": [
    "####    26727: ζ Orionis (Alnitak) | Distancia\t700 años luz (230 pc) | Mag. aparente (V)\t+2,03 / +4 / +4,2 | Magnitud absoluta\t-5,10"
   ]
  },
  {
   "cell_type": "code",
   "execution_count": null,
   "metadata": {},
   "outputs": [],
   "source": [
    "hip_main.where(0, are.equal_to(26727)).select(0, 6, 3, 5)"
   ]
  },
  {
   "cell_type": "markdown",
   "metadata": {},
   "source": [
    "####    27366: κ Orionis (Saiph) | Distancia \t722 años luz | Magnitud visual \t+2,05 | Magnitud absoluta \t-4,68 "
   ]
  },
  {
   "cell_type": "code",
   "execution_count": null,
   "metadata": {},
   "outputs": [],
   "source": [
    "hip_main.where(0, are.equal_to(27366)).select(0, 6, 3, 5)"
   ]
  },
  {
   "cell_type": "markdown",
   "metadata": {},
   "source": [
    "####    27989: α Orionis (Betelgeuse) | Distancia\t643 ± 146 años luz (197 ± 45 pc) | Mag. aparente (V)\t0,42 (0,3 a 1,2) | Magnitud absoluta\t-6,0 a -5,5"
   ]
  },
  {
   "cell_type": "code",
   "execution_count": null,
   "metadata": {},
   "outputs": [],
   "source": [
    "hip_main.where(0, are.equal_to(27989)).select(0, 6, 3, 5)"
   ]
  },
  {
   "cell_type": "markdown",
   "metadata": {},
   "source": [
    "####    28360: β Aurigae (Menkalinan) | Distancia \t82,1 años luz | Magnitud visual \t+1,90 (+2,56 / +2,80 / +14,1) | Magnitud absoluta \t-0,11 (conjunta) "
   ]
  },
  {
   "cell_type": "code",
   "execution_count": null,
   "metadata": {},
   "outputs": [],
   "source": [
    "hip_main.where(0, are.equal_to(28360)).select(0, 6, 3, 5)"
   ]
  },
  {
   "cell_type": "markdown",
   "metadata": {},
   "source": [
    "# HIP 30001 ~ 40000"
   ]
  },
  {
   "cell_type": "markdown",
   "metadata": {},
   "source": [
    "####    30324: β Canis Majoris (Mirzam o Murzim) | Distancia \t500 años luz | Magnitud visual \t+1,98 | Magnitud absoluta \t-3,95 "
   ]
  },
  {
   "cell_type": "code",
   "execution_count": null,
   "metadata": {},
   "outputs": [],
   "source": [
    "hip_main.where(0, are.equal_to(30324)).select(0, 6, 3, 5)"
   ]
  },
  {
   "cell_type": "markdown",
   "metadata": {},
   "source": [
    "####    30438: α Carinae (Canopo) | Distancia\t309 años luz (94.7 pc) | Mag. aparente (V)\t-0,72 | Magnitud absoluta\t-5,53"
   ]
  },
  {
   "cell_type": "code",
   "execution_count": null,
   "metadata": {},
   "outputs": [],
   "source": [
    "hip_main.where(0, are.equal_to(30438)).select(0, 6, 3, 5)"
   ]
  },
  {
   "cell_type": "markdown",
   "metadata": {},
   "source": [
    "####    31681: γ Geminorum (Alhena) | Distancia \t105 ± 8 años luz | Magnitud visual \t+1,93 | Magnitud absoluta \t-0,61 "
   ]
  },
  {
   "cell_type": "code",
   "execution_count": null,
   "metadata": {},
   "outputs": [],
   "source": [
    "hip_main.where(0, are.equal_to(31681)).select(0, 6, 3, 5)"
   ]
  },
  {
   "cell_type": "markdown",
   "metadata": {},
   "source": [
    "####    32349: α Canis Majoris (Sirio) | Distancia\t8,6 ± 0,04 años luz (2,64 ± 0,01 pc) | Mag. aparente (V)\t−1,46 (A) / 8,30 (B) | Magnitud absoluta\t1,42 (A) / 11,18 (B)"
   ]
  },
  {
   "cell_type": "code",
   "execution_count": null,
   "metadata": {},
   "outputs": [],
   "source": [
    "hip_main.where(0, are.equal_to(32349)).select(0, 6, 3, 5)"
   ]
  },
  {
   "cell_type": "markdown",
   "metadata": {},
   "source": [
    "####    33579: ε Canis Majoris (Adhara) | Distancia \t405 años luz | Magnitud visual \t+1,51 | Magnitud absoluta \t-4,10 "
   ]
  },
  {
   "cell_type": "code",
   "execution_count": null,
   "metadata": {},
   "outputs": [],
   "source": [
    "hip_main.where(0, are.equal_to(33579)).select(0, 6, 3, 5)"
   ]
  },
  {
   "cell_type": "markdown",
   "metadata": {},
   "source": [
    "####    34444: δ Canis Majoris (Wezen) | Distancia \t1800 años luz (aprox) | Magnitud visual \t+1,83 | Magnitud absoluta \t-6,87 "
   ]
  },
  {
   "cell_type": "code",
   "execution_count": null,
   "metadata": {},
   "outputs": [],
   "source": [
    "hip_main.where(0, are.equal_to(34444)).select(0, 6, 3, 5)"
   ]
  },
  {
   "cell_type": "markdown",
   "metadata": {},
   "source": [
    "####    36850: α Geminorum (Cástor) | Distancia \t51 ± 0,8 años luz | Magnitud visual \t+1,96 / +2,91 | Magnitud absoluta \t+1,22 / +2,8 "
   ]
  },
  {
   "cell_type": "code",
   "execution_count": null,
   "metadata": {},
   "outputs": [],
   "source": [
    "hip_main.where(0, are.equal_to(36850)).select(0, 6, 3, 5)"
   ]
  },
  {
   "cell_type": "markdown",
   "metadata": {},
   "source": [
    "####    37279: α Canis Minoris (Procyon) | Distancia\t11,41 ± 0,03 años luz | Mag. aparente (V)\t+0,34 | Magnitud absoluta\t+2,65 / +13,04"
   ]
  },
  {
   "cell_type": "code",
   "execution_count": null,
   "metadata": {},
   "outputs": [],
   "source": [
    "hip_main.where(0, are.equal_to(37279)).select(0, 6, 3, 5)"
   ]
  },
  {
   "cell_type": "markdown",
   "metadata": {},
   "source": [
    "####    37826: β Geminorum (Pólux) | Distancia \t33,7 ± 0,3 años luz | Magnitud visual \t+1,15 | Magnitud absoluta \t+1,09 "
   ]
  },
  {
   "cell_type": "code",
   "execution_count": null,
   "metadata": {},
   "outputs": [],
   "source": [
    "hip_main.where(0, are.equal_to(37826)).select(0, 6, 3, 5)"
   ]
  },
  {
   "cell_type": "markdown",
   "metadata": {},
   "source": [
    "####    39953: γ Velorum (Suhail o Regor) | Distancia \t800 años luz (aprox.) | Magnitud visual \t+1,78 / +4,27 | Magnitud absoluta \t-5,31 / -2,79 "
   ]
  },
  {
   "cell_type": "code",
   "execution_count": null,
   "metadata": {},
   "outputs": [],
   "source": [
    "hip_main.where(0, are.equal_to(39953)).select(0, 6, 3, 5)"
   ]
  },
  {
   "cell_type": "markdown",
   "metadata": {},
   "source": [
    "# HIP 40001 ~ 50000"
   ]
  },
  {
   "cell_type": "markdown",
   "metadata": {},
   "source": [
    "####    41037: ε Carinae (Avior) | Distancia \t630 ± 60 años luz | Magnitud visual \t+1,95 (+2,4 / +3,1) | Magnitud absoluta \t-4,58 (conjunta) "
   ]
  },
  {
   "cell_type": "code",
   "execution_count": null,
   "metadata": {},
   "outputs": [],
   "source": [
    "hip_main.where(0, are.equal_to(41037)).select(0, 6, 3, 5)"
   ]
  },
  {
   "cell_type": "markdown",
   "metadata": {},
   "source": [
    "####    42913: δ Velorum | Distancia \t79,7 ± 0,7 años luz | Magnitud visual \t1,95 (2,3 / 3,4 / 5,1) | Magnitud absoluta \t0,4 / 1,5 / 3,6 "
   ]
  },
  {
   "cell_type": "code",
   "execution_count": null,
   "metadata": {},
   "outputs": [],
   "source": [
    "hip_main.where(0, are.equal_to(42913)).select(0, 6, 3, 5)"
   ]
  },
  {
   "cell_type": "markdown",
   "metadata": {},
   "source": [
    "####    45238: β Carinae (Miaplacidus) | Distancia \t111 ± 2 años luz | Magnitud visual \t+1,67 | Magnitud absoluta \t-1,00 "
   ]
  },
  {
   "cell_type": "code",
   "execution_count": null,
   "metadata": {},
   "outputs": [],
   "source": [
    "hip_main.where(0, are.equal_to(45238)).select(0, 6, 3, 5)"
   ]
  },
  {
   "cell_type": "markdown",
   "metadata": {},
   "source": [
    "####    46390: α Hydrae (Alphard) | Distancia \t177 ± 8 años luz | Magnitud visual \t+1,99 | Magnitud absoluta \t-1,69 "
   ]
  },
  {
   "cell_type": "code",
   "execution_count": null,
   "metadata": {},
   "outputs": [],
   "source": [
    "hip_main.where(0, are.equal_to(46390)).select(0, 6, 3, 5)"
   ]
  },
  {
   "cell_type": "markdown",
   "metadata": {},
   "source": [
    "####    49669: α Leonis (Regulus) | Distancia \t77 ± 1 años luz | Magnitud visual \t+1,35 / +8,14 / +13,5 | Magnitud absoluta \t-0,5 / +4,2 / +9,5 "
   ]
  },
  {
   "cell_type": "code",
   "execution_count": null,
   "metadata": {},
   "outputs": [],
   "source": [
    "hip_main.where(0, are.equal_to(49669)).select(0, 6, 3, 5)"
   ]
  },
  {
   "cell_type": "markdown",
   "metadata": {},
   "source": [
    "# HIP 50001 ~ 60000"
   ]
  },
  {
   "cell_type": "markdown",
   "metadata": {},
   "source": [
    "####    50583: γ Leonis (Algieba) | Distancia \t131 ± 3 años luz | Magnitud visual \t+2,22(+2,61 / +3,8) | Magnitud absoluta \t-0,92 (conjunta) "
   ]
  },
  {
   "cell_type": "code",
   "execution_count": null,
   "metadata": {},
   "outputs": [],
   "source": [
    "hip_main.where(0, are.equal_to(50583)).select(0, 6, 3, 5)"
   ]
  },
  {
   "cell_type": "markdown",
   "metadata": {},
   "source": [
    "####    54035: Lalande 21185 | Distancia \t8,31 ± 0,01 años luz | Magnitud visual \t+7,47 | Magnitud absoluta \t+10,46 "
   ]
  },
  {
   "cell_type": "code",
   "execution_count": null,
   "metadata": {},
   "outputs": [],
   "source": [
    "hip_main.where(0, are.equal_to(54035)).select(0, 6, 3, 5)"
   ]
  },
  {
   "cell_type": "markdown",
   "metadata": {},
   "source": [
    "####    54061: α Ursae Majoris (Dubhe) | Distancia \t124 ± 2 años luz | Magnitud visual \t+1,79 (+1,87 / +4,81 / +7,12) | Magnitud absoluta \t-1,09 / +1,83 / +4,22 "
   ]
  },
  {
   "cell_type": "code",
   "execution_count": null,
   "metadata": {},
   "outputs": [],
   "source": [
    "hip_main.where(0, are.equal_to(54061)).select(0, 6, 3, 5)"
   ]
  },
  {
   "cell_type": "markdown",
   "metadata": {},
   "source": [
    "####    54872: δ Leonis (Duhr o Zosma) | Distancia \t57,7 ± 0,8 años luz | Magnitud visual \t+2,56 | Magnitud absoluta \t+1,29 "
   ]
  },
  {
   "cell_type": "code",
   "execution_count": null,
   "metadata": {},
   "outputs": [],
   "source": [
    "hip_main.where(0, are.equal_to(54872)).select(0, 6, 3, 5)"
   ]
  },
  {
   "cell_type": "markdown",
   "metadata": {},
   "source": [
    "####    54879: θ Leonis (Chertan) | Distancia \t165 años luz | Magnitud visual \t+3,33 | Magnitud absoluta \t-0,35 "
   ]
  },
  {
   "cell_type": "code",
   "execution_count": null,
   "metadata": {},
   "outputs": [],
   "source": [
    "hip_main.where(0, are.equal_to(54879)).select(0, 6, 3, 5)"
   ]
  },
  {
   "cell_type": "markdown",
   "metadata": {},
   "source": [
    "####    56997: 61 Ursae Majoris | Distancia \t31,1 ± 0,2 años luz | Magnitud visual \t+5,31 | Magnitud absoluta \t+5,41 "
   ]
  },
  {
   "cell_type": "code",
   "execution_count": null,
   "metadata": {},
   "outputs": [],
   "source": [
    "hip_main.where(0, are.equal_to(56997)).select(0, 6, 3, 5)"
   ]
  },
  {
   "cell_type": "markdown",
   "metadata": {},
   "source": [
    "# Esta no coincide"
   ]
  },
  {
   "cell_type": "markdown",
   "metadata": {},
   "source": [
    "####    57362: β Leonis (Denébola) | Distancia \t35,9 ± 0,2 años luz | Magnitud visual \t+2,14 | Magnitud absoluta \t+1,91 "
   ]
  },
  {
   "cell_type": "code",
   "execution_count": null,
   "metadata": {},
   "outputs": [],
   "source": [
    "hip_main.where(0, are.equal_to(57362)).select(0, 6, 3, 5)"
   ]
  },
  {
   "cell_type": "markdown",
   "metadata": {},
   "source": [
    "####    57757: β Virginis (Zavijava) | Distancia \t35,6 ± 0,3 años luz | Magnitud visual \t+3,61 | Magnitud absoluta \t+3,40 "
   ]
  },
  {
   "cell_type": "code",
   "execution_count": null,
   "metadata": {},
   "outputs": [],
   "source": [
    "hip_main.where(0, are.equal_to(57757)).select(0, 6, 3, 5)"
   ]
  },
  {
   "cell_type": "markdown",
   "metadata": {},
   "source": [
    "####    58001: γ Ursae Majoris (Phecda) | Distancia \t84 ± 1 años luz | Magnitud visual \t+2,44 | Magnitud absoluta \t+0,36 "
   ]
  },
  {
   "cell_type": "code",
   "execution_count": null,
   "metadata": {},
   "outputs": [],
   "source": [
    "hip_main.where(0, are.equal_to(58001)).select(0, 6, 3, 5)"
   ]
  },
  {
   "cell_type": "markdown",
   "metadata": {},
   "source": [
    "####    59196: δ Centauri | Distancia \t395 años luz | Magnitud visual \t+2,58 | Magnitud absoluta \t-2,82 "
   ]
  },
  {
   "cell_type": "code",
   "execution_count": null,
   "metadata": {},
   "outputs": [],
   "source": [
    "hip_main.where(0, are.equal_to(59196)).select(0, 6, 3, 5)"
   ]
  },
  {
   "cell_type": "markdown",
   "metadata": {},
   "source": [
    "# HIP 60001 ~ 70000"
   ]
  },
  {
   "cell_type": "markdown",
   "metadata": {},
   "source": [
    "####    60351: 12 Comae Berenices | Distancia\t273,394 años luz (83.823 pc) | Mag. aparente (V)\t+4,78 | Magnitud absoluta\t0,16"
   ]
  },
  {
   "cell_type": "code",
   "execution_count": null,
   "metadata": {},
   "outputs": [],
   "source": [
    "hip_main.where(0, are.equal_to(60351)).select(0, 6, 3, 5)"
   ]
  },
  {
   "cell_type": "markdown",
   "metadata": {},
   "source": [
    "####    60718: α Crucis (Acrux) | Distancia \t325 años luz | Magnitud visual \t0,77 (conjunta) | Magnitud absoluta \t-3,6 / -2,88 "
   ]
  },
  {
   "cell_type": "code",
   "execution_count": null,
   "metadata": {},
   "outputs": [],
   "source": [
    "hip_main.where(0, are.equal_to(60718)).select(0, 6, 3, 5)"
   ]
  },
  {
   "cell_type": "markdown",
   "metadata": {},
   "source": [
    "####    61084: γ Crucis (Gacrux) | Distancia \t88 ± 2 años luz | Magnitud visual \t+1,63 | Magnitud absoluta \t-0,56 "
   ]
  },
  {
   "cell_type": "code",
   "execution_count": null,
   "metadata": {},
   "outputs": [],
   "source": [
    "hip_main.where(0, are.equal_to(61084)).select(0, 6, 3, 5)"
   ]
  },
  {
   "cell_type": "markdown",
   "metadata": {},
   "source": [
    "####    62434: β Crucis (Becrux o Mimosa) | Distancia \t280 años luz | Magnitud visual \t+1,30 | Magnitud absoluta \t-3,92 "
   ]
  },
  {
   "cell_type": "code",
   "execution_count": null,
   "metadata": {},
   "outputs": [],
   "source": [
    "hip_main.where(0, are.equal_to(62434)).select(0, 6, 3, 5)"
   ]
  },
  {
   "cell_type": "markdown",
   "metadata": {},
   "source": [
    "####    62956: ε Ursae Majoris (Alioth) | Distancia \t81 ± 1 años luz | Magnitud visual \t+1,76 | Magnitud absoluta \t-0,22 "
   ]
  },
  {
   "cell_type": "code",
   "execution_count": null,
   "metadata": {},
   "outputs": [],
   "source": [
    "hip_main.where(0, are.equal_to(62956)).select(0, 6, 3, 5)"
   ]
  },
  {
   "cell_type": "markdown",
   "metadata": {},
   "source": [
    "####    63608: ε Virginis (Vindemiatrix) | Distancia\t110 ± 1 años luz (33,6 pc) | Mag. aparente (V)\t+2,83 | Magnitud absoluta\t+0,22"
   ]
  },
  {
   "cell_type": "code",
   "execution_count": null,
   "metadata": {},
   "outputs": [],
   "source": [
    "hip_main.where(0, are.equal_to(63608)).select(0, 6, 3, 5)"
   ]
  },
  {
   "cell_type": "markdown",
   "metadata": {},
   "source": [
    "####    65474: α Virginis (Espiga) | Distancia \t260 ± 20 años luz | Magnitud visual \t+1,04 (conjunta) | Magnitud absoluta \t-3,55 (conjunta) "
   ]
  },
  {
   "cell_type": "code",
   "execution_count": null,
   "metadata": {},
   "outputs": [],
   "source": [
    "hip_main.where(0, are.equal_to(65474)).select(0, 6, 3, 5)"
   ]
  },
  {
   "cell_type": "markdown",
   "metadata": {},
   "source": [
    "####    65835: R Hydrae | Distancia \t425 años luz (aprox) | Magnitud visual \t+6,40 | Magnitud absoluta \t-2,55 "
   ]
  },
  {
   "cell_type": "code",
   "execution_count": null,
   "metadata": {},
   "outputs": [],
   "source": [
    "hip_main.where(0, are.equal_to(65835)).select(0, 6, 3, 5)"
   ]
  },
  {
   "cell_type": "markdown",
   "metadata": {},
   "source": [
    "####    66249: ζ Virginis (Heze) | Distancia \t73,2 ± 1,5 años luz | Magnitud visual \t+3,371​ | Magnitud absoluta \t+1,62 "
   ]
  },
  {
   "cell_type": "code",
   "execution_count": null,
   "metadata": {},
   "outputs": [],
   "source": [
    "hip_main.where(0, are.equal_to(66249)).select(0, 6, 3, 5)"
   ]
  },
  {
   "cell_type": "markdown",
   "metadata": {},
   "source": [
    "####    67301: η Ursae Majoris (Alkaid o Benetnasch) | Distancia \t101 ± 2 años luz | Magnitud visual \t+1,85 | Magnitud absoluta \t-0,60 "
   ]
  },
  {
   "cell_type": "code",
   "execution_count": null,
   "metadata": {},
   "outputs": [],
   "source": [
    "hip_main.where(0, are.equal_to(67301)).select(0, 6, 3, 5)"
   ]
  },
  {
   "cell_type": "markdown",
   "metadata": {},
   "source": [
    "####    68702: β Centauri (Hadar o Agena) | Distancia \t352 años luz | Magnitud visual \t+0,60 | Magnitud absoluta \t-5,42 "
   ]
  },
  {
   "cell_type": "code",
   "execution_count": null,
   "metadata": {},
   "outputs": [],
   "source": [
    "hip_main.where(0, are.equal_to(68702)).select(0, 6, 3, 5)"
   ]
  },
  {
   "cell_type": "markdown",
   "metadata": {},
   "source": [
    "####    68933: θ Centauri (Menkent) | Distancia \t60,9 ± 0,9 años luz | Magnitud visual \t+2,06 | Magnitud absoluta \t+0,70 "
   ]
  },
  {
   "cell_type": "code",
   "execution_count": null,
   "metadata": {},
   "outputs": [],
   "source": [
    "hip_main.where(0, are.equal_to(68933)).select(0, 6, 3, 5)"
   ]
  },
  {
   "cell_type": "markdown",
   "metadata": {},
   "source": [
    "####    69673: α Bootis (Arturo) | Distancia\t36,7 ± 0,3 años luz | Mag. aparente (V)\t−0,04 | Magnitud absoluta\t−0,29"
   ]
  },
  {
   "cell_type": "code",
   "execution_count": null,
   "metadata": {},
   "outputs": [],
   "source": [
    "hip_main.where(0, are.equal_to(69673)).select(0, 6, 3, 5)"
   ]
  },
  {
   "cell_type": "markdown",
   "metadata": {},
   "source": [
    "# HIP 70001 ~ 80000"
   ]
  },
  {
   "cell_type": "markdown",
   "metadata": {},
   "source": [
    "####    71681: α Centauri B (Rigil Kentaurus o Toliman) | Distancia \t4.5 años luz | Magnitud visual \t-0,01 | Magnitud absoluta \t15,49 "
   ]
  },
  {
   "cell_type": "code",
   "execution_count": null,
   "metadata": {},
   "outputs": [],
   "source": [
    "hip_main.where(0, are.equal_to(71681)).select(0, 6, 3, 5)"
   ]
  },
  {
   "cell_type": "markdown",
   "metadata": {},
   "source": [
    "# Estas dos no coinciden"
   ]
  },
  {
   "cell_type": "markdown",
   "metadata": {},
   "source": [
    "####    71683: α Centauri A (Rigil Kentaurus o Toliman) | Distancia \t4.5 años luz | Magnitud visual \t-0,01 | Magnitud absoluta \t15,49 "
   ]
  },
  {
   "cell_type": "code",
   "execution_count": null,
   "metadata": {},
   "outputs": [],
   "source": [
    "hip_main.where(0, are.equal_to(71683)).select(0, 6, 3, 5)"
   ]
  },
  {
   "cell_type": "markdown",
   "metadata": {},
   "source": [
    "####    71860: α Lupi (Kakkab o Men) | Distancia \t550 años luz | Magnitud visual \t+2,30 | Magnitud absoluta \t-3,83 "
   ]
  },
  {
   "cell_type": "code",
   "execution_count": null,
   "metadata": {},
   "outputs": [],
   "source": [
    "hip_main.where(0, are.equal_to(71860)).select(0, 6, 3, 5)"
   ]
  },
  {
   "cell_type": "markdown",
   "metadata": {},
   "source": [
    "####    72607: β Ursae Minoris (Kochab) | Distancia\t129 años luz (39 pc) | Mag. aparente (V)\t2.07 | Magnitud absoluta\t-0,88"
   ]
  },
  {
   "cell_type": "code",
   "execution_count": null,
   "metadata": {},
   "outputs": [],
   "source": [
    "hip_main.where(0, are.equal_to(72607)).select(0, 6, 3, 5)"
   ]
  },
  {
   "cell_type": "markdown",
   "metadata": {},
   "source": [
    "####    75097: γ Ursae Minoris (Pherkad) | Distancia \t480 ± 30 años luz | Magnitud visual \t+3,00 | Magnitud absoluta \t-2,84 "
   ]
  },
  {
   "cell_type": "code",
   "execution_count": null,
   "metadata": {},
   "outputs": [],
   "source": [
    "hip_main.where(0, are.equal_to(75097)).select(0, 6, 3, 5)"
   ]
  },
  {
   "cell_type": "markdown",
   "metadata": {},
   "source": [
    "# HIP 80001 ~ 90000"
   ]
  },
  {
   "cell_type": "markdown",
   "metadata": {},
   "source": [
    "####    80763: α Scorpii (Antares) | Distancia\t550 años luz | Mag. aparente (V)\t+1,091​| Magnitud absoluta\t-5,28"
   ]
  },
  {
   "cell_type": "code",
   "execution_count": null,
   "metadata": {},
   "outputs": [],
   "source": [
    "hip_main.where(0, are.equal_to(80763)).select(0, 6, 3, 5)"
   ]
  },
  {
   "cell_type": "markdown",
   "metadata": {},
   "source": [
    "####    82273: α Trianguli Australis (Atria) | Distancia \t415 ± 30 años luz | Magnitud visual \t+1,91 | Magnitud absoluta \t-3,62 "
   ]
  },
  {
   "cell_type": "code",
   "execution_count": null,
   "metadata": {},
   "outputs": [],
   "source": [
    "hip_main.where(0, are.equal_to(82273)).select(0, 6, 3, 5)"
   ]
  },
  {
   "cell_type": "markdown",
   "metadata": {},
   "source": [
    "####    82396: ε Scorpii (Wei) | Distancia \t65 ± 1 años luz | Magnitud visual \t+2,29 | Magnitud absoluta \t+0,78 "
   ]
  },
  {
   "cell_type": "code",
   "execution_count": null,
   "metadata": {},
   "outputs": [],
   "source": [
    "hip_main.where(0, are.equal_to(82396)).select(0, 6, 3, 5)"
   ]
  },
  {
   "cell_type": "markdown",
   "metadata": {},
   "source": [
    "####    85927: λ Scorpii (Shaula) | Distancia \t570 años luz ? | Magnitud visual \t+1,62 | Magnitud absoluta \t-5,05 "
   ]
  },
  {
   "cell_type": "code",
   "execution_count": null,
   "metadata": {},
   "outputs": [],
   "source": [
    "hip_main.where(0, are.equal_to(85927)).select(0, 6, 3, 5)"
   ]
  },
  {
   "cell_type": "markdown",
   "metadata": {},
   "source": [
    "####    86032: α Ophiuchi (Rasalhague o Ras Alhague) | Distancia \t46,7 ± 0,6 años luz | Magnitud visual \t+2,08 | Magnitud absoluta \t+1,30 "
   ]
  },
  {
   "cell_type": "code",
   "execution_count": null,
   "metadata": {},
   "outputs": [],
   "source": [
    "hip_main.where(0, are.equal_to(86032)).select(0, 6, 3, 5)"
   ]
  },
  {
   "cell_type": "markdown",
   "metadata": {},
   "source": [
    "####    86228: θ Scorpii (Sargas o Girtab) | Distancia \t270 ± 20 años luz | Magnitud visual \t+1,86 | Magnitud absoluta \t-2,75 "
   ]
  },
  {
   "cell_type": "code",
   "execution_count": null,
   "metadata": {},
   "outputs": [],
   "source": [
    "hip_main.where(0, are.equal_to(86228)).select(0, 6, 3, 5)"
   ]
  },
  {
   "cell_type": "markdown",
   "metadata": {},
   "source": [
    "# HIP 90001 ~ 10000"
   ]
  },
  {
   "cell_type": "markdown",
   "metadata": {},
   "source": [
    "####    90185: ε Sagittarii (Kaus Australis) | Distancia \t145 ± 7 años luz | Magnitud visual \t+1,79 | Magnitud absoluta \t-1,45 "
   ]
  },
  {
   "cell_type": "code",
   "execution_count": null,
   "metadata": {},
   "outputs": [],
   "source": [
    "hip_main.where(0, are.equal_to(90185)).select(0, 6, 3, 5)"
   ]
  },
  {
   "cell_type": "markdown",
   "metadata": {},
   "source": [
    "####    90496: λ Sagittarii (Kaus Borealis) | Distancia \t77,3 ± 1,6 años luz | Magnitud visual \t+2,81 | Magnitud absoluta \t+0,94 "
   ]
  },
  {
   "cell_type": "code",
   "execution_count": null,
   "metadata": {},
   "outputs": [],
   "source": [
    "hip_main.where(0, are.equal_to(90496)).select(0, 6, 3, 5)"
   ]
  },
  {
   "cell_type": "markdown",
   "metadata": {},
   "source": [
    "####    91262: α Lyrae (Vega) | Distancia\t25.3 ± 0.1 años luz (7.76 ± 0.03 pc) | Mag. aparente (V)\t0.03 | Magnitud absoluta\t0.58"
   ]
  },
  {
   "cell_type": "code",
   "execution_count": null,
   "metadata": {},
   "outputs": [],
   "source": [
    "hip_main.where(0, are.equal_to(91262)).select(0, 6, 3, 5)"
   ]
  },
  {
   "cell_type": "markdown",
   "metadata": {},
   "source": [
    "####    92403: Ross 154 | Distancia \t9,68 ± 0,05 años luz | Magnitud visual \t+10,44 | Magnitud absoluta \t+13,08 "
   ]
  },
  {
   "cell_type": "code",
   "execution_count": null,
   "metadata": {},
   "outputs": [],
   "source": [
    "hip_main.where(0, are.equal_to(92403)).select(0, 6, 3, 5)"
   ]
  },
  {
   "cell_type": "markdown",
   "metadata": {},
   "source": [
    "####    92855: σ Sagittarii (Nunki) | Distancia\t224 ± 14 años luz (69 ± 4 pc) | Mag. aparente (V)\t+2,05 | Magnitud absoluta\t-2,14"
   ]
  },
  {
   "cell_type": "code",
   "execution_count": null,
   "metadata": {},
   "outputs": [],
   "source": [
    "hip_main.where(0, are.equal_to(92855)).select(0, 6, 3, 5)"
   ]
  },
  {
   "cell_type": "markdown",
   "metadata": {},
   "source": [
    "####    97278: γ Aquilae (Tarazed) | Distancia \t461 ± 49 años luz | Magnitud visual \t+2,72 | Magnitud absoluta \t-3,03 "
   ]
  },
  {
   "cell_type": "code",
   "execution_count": null,
   "metadata": {},
   "outputs": [],
   "source": [
    "hip_main.where(0, are.equal_to(97278)).select(0, 6, 3, 5)"
   ]
  },
  {
   "cell_type": "markdown",
   "metadata": {},
   "source": [
    "####    97649: α Aquilae (Altair) | Distancia\t16.73 ± 5.05 años luz (5.13 ± 0.01 pc) | Mag. aparente (V)\t+0.76 | Magnitud absoluta\t2.22"
   ]
  },
  {
   "cell_type": "code",
   "execution_count": null,
   "metadata": {},
   "outputs": [],
   "source": [
    "hip_main.where(0, are.equal_to(97649)).select(0, 6, 3, 5)"
   ]
  },
  {
   "cell_type": "markdown",
   "metadata": {},
   "source": [
    "# HIP 100001 ~ 110000"
   ]
  },
  {
   "cell_type": "markdown",
   "metadata": {},
   "source": [
    "####    100751: α Pavonis (Peacock) | Distancia \t183 ± 7 años luz | Magnitud visual \t+1,91 | Magnitud absoluta \t-1,81 "
   ]
  },
  {
   "cell_type": "code",
   "execution_count": null,
   "metadata": {},
   "outputs": [],
   "source": [
    "hip_main.where(0, are.equal_to(100751)).select(0, 6, 3, 5)"
   ]
  },
  {
   "cell_type": "markdown",
   "metadata": {},
   "source": [
    "####    102098: α Cygni (Deneb, Arided o Aridif) | Distancia \t1425 años luz (aprox) | Magnitud visual \t+1,25 | Magnitud absoluta \t-7,2 (aprox) "
   ]
  },
  {
   "cell_type": "code",
   "execution_count": null,
   "metadata": {},
   "outputs": [],
   "source": [
    "hip_main.where(0, are.equal_to(102098)).select(0, 6, 3, 5)"
   ]
  },
  {
   "cell_type": "markdown",
   "metadata": {},
   "source": [
    "####    105881: ζ Capricorni (Marakk) | Distancia \t398 ± 44 años luz | Magnitud visual \t+3,77 | Magnitud absoluta \t-1,66 "
   ]
  },
  {
   "cell_type": "code",
   "execution_count": null,
   "metadata": {},
   "outputs": [],
   "source": [
    "hip_main.where(0, are.equal_to(105881)).select(0, 6, 3, 5)"
   ]
  },
  {
   "cell_type": "markdown",
   "metadata": {},
   "source": [
    "####    109268: α Gruis (Alnair) | Distancia \t101 ± 3 años luz | Magnitud visual \t+1,73 | Magnitud absoluta \t-0,74 "
   ]
  },
  {
   "cell_type": "code",
   "execution_count": null,
   "metadata": {},
   "outputs": [],
   "source": [
    "hip_main.where(0, are.equal_to(109268)).select(0, 6, 3, 5)"
   ]
  },
  {
   "cell_type": "markdown",
   "metadata": {},
   "source": [
    "# Esta no coincide"
   ]
  },
  {
   "cell_type": "markdown",
   "metadata": {},
   "source": [
    "####    109358: β Canum Venaticorum (Asterion o Chara) | Distancia \t27,4 ± 0,2 años luz | Magnitud visual \t+4,26 | Magnitud absoluta \t+4,65 "
   ]
  },
  {
   "cell_type": "code",
   "execution_count": null,
   "metadata": {},
   "outputs": [],
   "source": [
    "hip_main.where(0, are.equal_to(109358)).select(0, 6, 3, 5)"
   ]
  },
  {
   "cell_type": "markdown",
   "metadata": {},
   "source": [
    "# HIP 110001 ~ 120000"
   ]
  },
  {
   "cell_type": "markdown",
   "metadata": {},
   "source": [
    "####    112122: β Gruis (Gruid) | Distancia \t170 ± 7 años luz | Magnitud visual \t+2,0 a +2,3 | Magnitud absoluta \t-1,52 "
   ]
  },
  {
   "cell_type": "code",
   "execution_count": null,
   "metadata": {},
   "outputs": [],
   "source": [
    "hip_main.where(0, are.equal_to(112122)).select(0, 6, 3, 5)"
   ]
  },
  {
   "cell_type": "markdown",
   "metadata": {},
   "source": [
    "####    113368: α Piscis Austrini (Fomalhaut) | Distancia \t25 ± 0,1 años luz | Magnitud visual \t+1,16 | Magnitud absoluta \t+1,73 "
   ]
  },
  {
   "cell_type": "code",
   "execution_count": null,
   "metadata": {},
   "outputs": [],
   "source": [
    "hip_main.where(0, are.equal_to(113368)).select(0, 6, 3, 5)"
   ]
  },
  {
   "cell_type": "code",
   "execution_count": null,
   "metadata": {},
   "outputs": [],
   "source": []
  }
 ],
 "metadata": {
  "kernelspec": {
   "display_name": "Python 3",
   "language": "python",
   "name": "python3"
  },
  "language_info": {
   "codemirror_mode": {
    "name": "ipython",
    "version": 3
   },
   "file_extension": ".py",
   "mimetype": "text/x-python",
   "name": "python",
   "nbconvert_exporter": "python",
   "pygments_lexer": "ipython3",
   "version": "3.7.6"
  }
 },
 "nbformat": 4,
 "nbformat_minor": 2
}
